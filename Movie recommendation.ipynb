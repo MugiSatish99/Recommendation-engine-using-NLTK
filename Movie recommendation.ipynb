{
 "cells": [
  {
   "cell_type": "code",
   "execution_count": 1,
   "id": "a7ebf3ce-6ea7-4919-aef9-978518defdbd",
   "metadata": {},
   "outputs": [],
   "source": [
    "#importing libraries\n",
    "import pandas as pd\n",
    "import numpy as np"
   ]
  },
  {
   "cell_type": "code",
   "execution_count": 162,
   "id": "33ee808f-50cf-499f-8843-e44ed7a251ac",
   "metadata": {},
   "outputs": [],
   "source": [
    "#loading Datasets\n",
    "raw = pd.read_csv('tmdb_5000_credits.csv')\n",
    "raw1 = pd.read_csv('tmdb_5000_movies.csv')"
   ]
  },
  {
   "cell_type": "code",
   "execution_count": 163,
   "id": "910b72a7-4ea5-47e9-a238-2d882ce6a301",
   "metadata": {},
   "outputs": [
    {
     "data": {
      "text/html": [
       "<div>\n",
       "<style scoped>\n",
       "    .dataframe tbody tr th:only-of-type {\n",
       "        vertical-align: middle;\n",
       "    }\n",
       "\n",
       "    .dataframe tbody tr th {\n",
       "        vertical-align: top;\n",
       "    }\n",
       "\n",
       "    .dataframe thead th {\n",
       "        text-align: right;\n",
       "    }\n",
       "</style>\n",
       "<table border=\"1\" class=\"dataframe\">\n",
       "  <thead>\n",
       "    <tr style=\"text-align: right;\">\n",
       "      <th></th>\n",
       "      <th>movie_id</th>\n",
       "      <th>title</th>\n",
       "      <th>cast</th>\n",
       "      <th>crew</th>\n",
       "      <th>budget</th>\n",
       "      <th>genres</th>\n",
       "      <th>homepage</th>\n",
       "      <th>id</th>\n",
       "      <th>keywords</th>\n",
       "      <th>original_language</th>\n",
       "      <th>...</th>\n",
       "      <th>production_companies</th>\n",
       "      <th>production_countries</th>\n",
       "      <th>release_date</th>\n",
       "      <th>revenue</th>\n",
       "      <th>runtime</th>\n",
       "      <th>spoken_languages</th>\n",
       "      <th>status</th>\n",
       "      <th>tagline</th>\n",
       "      <th>vote_average</th>\n",
       "      <th>vote_count</th>\n",
       "    </tr>\n",
       "  </thead>\n",
       "  <tbody>\n",
       "    <tr>\n",
       "      <th>0</th>\n",
       "      <td>19995</td>\n",
       "      <td>Avatar</td>\n",
       "      <td>[{\"cast_id\": 242, \"character\": \"Jake Sully\", \"...</td>\n",
       "      <td>[{\"credit_id\": \"52fe48009251416c750aca23\", \"de...</td>\n",
       "      <td>237000000</td>\n",
       "      <td>[{\"id\": 28, \"name\": \"Action\"}, {\"id\": 12, \"nam...</td>\n",
       "      <td>http://www.avatarmovie.com/</td>\n",
       "      <td>19995</td>\n",
       "      <td>[{\"id\": 1463, \"name\": \"culture clash\"}, {\"id\":...</td>\n",
       "      <td>en</td>\n",
       "      <td>...</td>\n",
       "      <td>[{\"name\": \"Ingenious Film Partners\", \"id\": 289...</td>\n",
       "      <td>[{\"iso_3166_1\": \"US\", \"name\": \"United States o...</td>\n",
       "      <td>2009-12-10</td>\n",
       "      <td>2787965087</td>\n",
       "      <td>162.0</td>\n",
       "      <td>[{\"iso_639_1\": \"en\", \"name\": \"English\"}, {\"iso...</td>\n",
       "      <td>Released</td>\n",
       "      <td>Enter the World of Pandora.</td>\n",
       "      <td>7.2</td>\n",
       "      <td>11800</td>\n",
       "    </tr>\n",
       "    <tr>\n",
       "      <th>1</th>\n",
       "      <td>285</td>\n",
       "      <td>Pirates of the Caribbean: At World's End</td>\n",
       "      <td>[{\"cast_id\": 4, \"character\": \"Captain Jack Spa...</td>\n",
       "      <td>[{\"credit_id\": \"52fe4232c3a36847f800b579\", \"de...</td>\n",
       "      <td>300000000</td>\n",
       "      <td>[{\"id\": 12, \"name\": \"Adventure\"}, {\"id\": 14, \"...</td>\n",
       "      <td>http://disney.go.com/disneypictures/pirates/</td>\n",
       "      <td>285</td>\n",
       "      <td>[{\"id\": 270, \"name\": \"ocean\"}, {\"id\": 726, \"na...</td>\n",
       "      <td>en</td>\n",
       "      <td>...</td>\n",
       "      <td>[{\"name\": \"Walt Disney Pictures\", \"id\": 2}, {\"...</td>\n",
       "      <td>[{\"iso_3166_1\": \"US\", \"name\": \"United States o...</td>\n",
       "      <td>2007-05-19</td>\n",
       "      <td>961000000</td>\n",
       "      <td>169.0</td>\n",
       "      <td>[{\"iso_639_1\": \"en\", \"name\": \"English\"}]</td>\n",
       "      <td>Released</td>\n",
       "      <td>At the end of the world, the adventure begins.</td>\n",
       "      <td>6.9</td>\n",
       "      <td>4500</td>\n",
       "    </tr>\n",
       "    <tr>\n",
       "      <th>2</th>\n",
       "      <td>206647</td>\n",
       "      <td>Spectre</td>\n",
       "      <td>[{\"cast_id\": 1, \"character\": \"James Bond\", \"cr...</td>\n",
       "      <td>[{\"credit_id\": \"54805967c3a36829b5002c41\", \"de...</td>\n",
       "      <td>245000000</td>\n",
       "      <td>[{\"id\": 28, \"name\": \"Action\"}, {\"id\": 12, \"nam...</td>\n",
       "      <td>http://www.sonypictures.com/movies/spectre/</td>\n",
       "      <td>206647</td>\n",
       "      <td>[{\"id\": 470, \"name\": \"spy\"}, {\"id\": 818, \"name...</td>\n",
       "      <td>en</td>\n",
       "      <td>...</td>\n",
       "      <td>[{\"name\": \"Columbia Pictures\", \"id\": 5}, {\"nam...</td>\n",
       "      <td>[{\"iso_3166_1\": \"GB\", \"name\": \"United Kingdom\"...</td>\n",
       "      <td>2015-10-26</td>\n",
       "      <td>880674609</td>\n",
       "      <td>148.0</td>\n",
       "      <td>[{\"iso_639_1\": \"fr\", \"name\": \"Fran\\u00e7ais\"},...</td>\n",
       "      <td>Released</td>\n",
       "      <td>A Plan No One Escapes</td>\n",
       "      <td>6.3</td>\n",
       "      <td>4466</td>\n",
       "    </tr>\n",
       "    <tr>\n",
       "      <th>3</th>\n",
       "      <td>49026</td>\n",
       "      <td>The Dark Knight Rises</td>\n",
       "      <td>[{\"cast_id\": 2, \"character\": \"Bruce Wayne / Ba...</td>\n",
       "      <td>[{\"credit_id\": \"52fe4781c3a36847f81398c3\", \"de...</td>\n",
       "      <td>250000000</td>\n",
       "      <td>[{\"id\": 28, \"name\": \"Action\"}, {\"id\": 80, \"nam...</td>\n",
       "      <td>http://www.thedarkknightrises.com/</td>\n",
       "      <td>49026</td>\n",
       "      <td>[{\"id\": 849, \"name\": \"dc comics\"}, {\"id\": 853,...</td>\n",
       "      <td>en</td>\n",
       "      <td>...</td>\n",
       "      <td>[{\"name\": \"Legendary Pictures\", \"id\": 923}, {\"...</td>\n",
       "      <td>[{\"iso_3166_1\": \"US\", \"name\": \"United States o...</td>\n",
       "      <td>2012-07-16</td>\n",
       "      <td>1084939099</td>\n",
       "      <td>165.0</td>\n",
       "      <td>[{\"iso_639_1\": \"en\", \"name\": \"English\"}]</td>\n",
       "      <td>Released</td>\n",
       "      <td>The Legend Ends</td>\n",
       "      <td>7.6</td>\n",
       "      <td>9106</td>\n",
       "    </tr>\n",
       "    <tr>\n",
       "      <th>4</th>\n",
       "      <td>49529</td>\n",
       "      <td>John Carter</td>\n",
       "      <td>[{\"cast_id\": 5, \"character\": \"John Carter\", \"c...</td>\n",
       "      <td>[{\"credit_id\": \"52fe479ac3a36847f813eaa3\", \"de...</td>\n",
       "      <td>260000000</td>\n",
       "      <td>[{\"id\": 28, \"name\": \"Action\"}, {\"id\": 12, \"nam...</td>\n",
       "      <td>http://movies.disney.com/john-carter</td>\n",
       "      <td>49529</td>\n",
       "      <td>[{\"id\": 818, \"name\": \"based on novel\"}, {\"id\":...</td>\n",
       "      <td>en</td>\n",
       "      <td>...</td>\n",
       "      <td>[{\"name\": \"Walt Disney Pictures\", \"id\": 2}]</td>\n",
       "      <td>[{\"iso_3166_1\": \"US\", \"name\": \"United States o...</td>\n",
       "      <td>2012-03-07</td>\n",
       "      <td>284139100</td>\n",
       "      <td>132.0</td>\n",
       "      <td>[{\"iso_639_1\": \"en\", \"name\": \"English\"}]</td>\n",
       "      <td>Released</td>\n",
       "      <td>Lost in our world, found in another.</td>\n",
       "      <td>6.1</td>\n",
       "      <td>2124</td>\n",
       "    </tr>\n",
       "  </tbody>\n",
       "</table>\n",
       "<p>5 rows × 23 columns</p>\n",
       "</div>"
      ],
      "text/plain": [
       "   movie_id                                     title  \\\n",
       "0     19995                                    Avatar   \n",
       "1       285  Pirates of the Caribbean: At World's End   \n",
       "2    206647                                   Spectre   \n",
       "3     49026                     The Dark Knight Rises   \n",
       "4     49529                               John Carter   \n",
       "\n",
       "                                                cast  \\\n",
       "0  [{\"cast_id\": 242, \"character\": \"Jake Sully\", \"...   \n",
       "1  [{\"cast_id\": 4, \"character\": \"Captain Jack Spa...   \n",
       "2  [{\"cast_id\": 1, \"character\": \"James Bond\", \"cr...   \n",
       "3  [{\"cast_id\": 2, \"character\": \"Bruce Wayne / Ba...   \n",
       "4  [{\"cast_id\": 5, \"character\": \"John Carter\", \"c...   \n",
       "\n",
       "                                                crew     budget  \\\n",
       "0  [{\"credit_id\": \"52fe48009251416c750aca23\", \"de...  237000000   \n",
       "1  [{\"credit_id\": \"52fe4232c3a36847f800b579\", \"de...  300000000   \n",
       "2  [{\"credit_id\": \"54805967c3a36829b5002c41\", \"de...  245000000   \n",
       "3  [{\"credit_id\": \"52fe4781c3a36847f81398c3\", \"de...  250000000   \n",
       "4  [{\"credit_id\": \"52fe479ac3a36847f813eaa3\", \"de...  260000000   \n",
       "\n",
       "                                              genres  \\\n",
       "0  [{\"id\": 28, \"name\": \"Action\"}, {\"id\": 12, \"nam...   \n",
       "1  [{\"id\": 12, \"name\": \"Adventure\"}, {\"id\": 14, \"...   \n",
       "2  [{\"id\": 28, \"name\": \"Action\"}, {\"id\": 12, \"nam...   \n",
       "3  [{\"id\": 28, \"name\": \"Action\"}, {\"id\": 80, \"nam...   \n",
       "4  [{\"id\": 28, \"name\": \"Action\"}, {\"id\": 12, \"nam...   \n",
       "\n",
       "                                       homepage      id  \\\n",
       "0                   http://www.avatarmovie.com/   19995   \n",
       "1  http://disney.go.com/disneypictures/pirates/     285   \n",
       "2   http://www.sonypictures.com/movies/spectre/  206647   \n",
       "3            http://www.thedarkknightrises.com/   49026   \n",
       "4          http://movies.disney.com/john-carter   49529   \n",
       "\n",
       "                                            keywords original_language  ...  \\\n",
       "0  [{\"id\": 1463, \"name\": \"culture clash\"}, {\"id\":...                en  ...   \n",
       "1  [{\"id\": 270, \"name\": \"ocean\"}, {\"id\": 726, \"na...                en  ...   \n",
       "2  [{\"id\": 470, \"name\": \"spy\"}, {\"id\": 818, \"name...                en  ...   \n",
       "3  [{\"id\": 849, \"name\": \"dc comics\"}, {\"id\": 853,...                en  ...   \n",
       "4  [{\"id\": 818, \"name\": \"based on novel\"}, {\"id\":...                en  ...   \n",
       "\n",
       "                                production_companies  \\\n",
       "0  [{\"name\": \"Ingenious Film Partners\", \"id\": 289...   \n",
       "1  [{\"name\": \"Walt Disney Pictures\", \"id\": 2}, {\"...   \n",
       "2  [{\"name\": \"Columbia Pictures\", \"id\": 5}, {\"nam...   \n",
       "3  [{\"name\": \"Legendary Pictures\", \"id\": 923}, {\"...   \n",
       "4        [{\"name\": \"Walt Disney Pictures\", \"id\": 2}]   \n",
       "\n",
       "                                production_countries  release_date  \\\n",
       "0  [{\"iso_3166_1\": \"US\", \"name\": \"United States o...    2009-12-10   \n",
       "1  [{\"iso_3166_1\": \"US\", \"name\": \"United States o...    2007-05-19   \n",
       "2  [{\"iso_3166_1\": \"GB\", \"name\": \"United Kingdom\"...    2015-10-26   \n",
       "3  [{\"iso_3166_1\": \"US\", \"name\": \"United States o...    2012-07-16   \n",
       "4  [{\"iso_3166_1\": \"US\", \"name\": \"United States o...    2012-03-07   \n",
       "\n",
       "      revenue runtime                                   spoken_languages  \\\n",
       "0  2787965087   162.0  [{\"iso_639_1\": \"en\", \"name\": \"English\"}, {\"iso...   \n",
       "1   961000000   169.0           [{\"iso_639_1\": \"en\", \"name\": \"English\"}]   \n",
       "2   880674609   148.0  [{\"iso_639_1\": \"fr\", \"name\": \"Fran\\u00e7ais\"},...   \n",
       "3  1084939099   165.0           [{\"iso_639_1\": \"en\", \"name\": \"English\"}]   \n",
       "4   284139100   132.0           [{\"iso_639_1\": \"en\", \"name\": \"English\"}]   \n",
       "\n",
       "     status                                         tagline vote_average  \\\n",
       "0  Released                     Enter the World of Pandora.          7.2   \n",
       "1  Released  At the end of the world, the adventure begins.          6.9   \n",
       "2  Released                           A Plan No One Escapes          6.3   \n",
       "3  Released                                 The Legend Ends          7.6   \n",
       "4  Released            Lost in our world, found in another.          6.1   \n",
       "\n",
       "  vote_count  \n",
       "0      11800  \n",
       "1       4500  \n",
       "2       4466  \n",
       "3       9106  \n",
       "4       2124  \n",
       "\n",
       "[5 rows x 23 columns]"
      ]
     },
     "execution_count": 163,
     "metadata": {},
     "output_type": "execute_result"
    }
   ],
   "source": [
    "#creating a single DF\n",
    "df = pd.merge(raw, raw1, on='title', how='inner')\n",
    "df.head()"
   ]
  },
  {
   "cell_type": "code",
   "execution_count": 164,
   "id": "98e42205-be79-47e2-aaac-e70188d3d601",
   "metadata": {},
   "outputs": [
    {
     "data": {
      "text/plain": [
       "movie_id                   0\n",
       "title                      0\n",
       "cast                       0\n",
       "crew                       0\n",
       "budget                     0\n",
       "genres                     0\n",
       "homepage                3096\n",
       "id                         0\n",
       "keywords                   0\n",
       "original_language          0\n",
       "original_title             0\n",
       "overview                   3\n",
       "popularity                 0\n",
       "production_companies       0\n",
       "production_countries       0\n",
       "release_date               1\n",
       "revenue                    0\n",
       "runtime                    2\n",
       "spoken_languages           0\n",
       "status                     0\n",
       "tagline                  844\n",
       "vote_average               0\n",
       "vote_count                 0\n",
       "dtype: int64"
      ]
     },
     "execution_count": 164,
     "metadata": {},
     "output_type": "execute_result"
    }
   ],
   "source": [
    "df.isnull().sum() #checking for NULL values"
   ]
  },
  {
   "cell_type": "code",
   "execution_count": 165,
   "id": "e135b785-5aef-4bcd-98f2-e5c72a43ee3f",
   "metadata": {},
   "outputs": [],
   "source": [
    "df.dropna(inplace=True) #dropping Null Values"
   ]
  },
  {
   "cell_type": "code",
   "execution_count": 166,
   "id": "5c3e7e9e-99be-4485-b5bd-4b9d9276f391",
   "metadata": {},
   "outputs": [
    {
     "name": "stdout",
     "output_type": "stream",
     "text": [
      "<class 'pandas.core.frame.DataFrame'>\n",
      "Index: 1494 entries, 0 to 4807\n",
      "Data columns (total 23 columns):\n",
      " #   Column                Non-Null Count  Dtype  \n",
      "---  ------                --------------  -----  \n",
      " 0   movie_id              1494 non-null   int64  \n",
      " 1   title                 1494 non-null   object \n",
      " 2   cast                  1494 non-null   object \n",
      " 3   crew                  1494 non-null   object \n",
      " 4   budget                1494 non-null   int64  \n",
      " 5   genres                1494 non-null   object \n",
      " 6   homepage              1494 non-null   object \n",
      " 7   id                    1494 non-null   int64  \n",
      " 8   keywords              1494 non-null   object \n",
      " 9   original_language     1494 non-null   object \n",
      " 10  original_title        1494 non-null   object \n",
      " 11  overview              1494 non-null   object \n",
      " 12  popularity            1494 non-null   float64\n",
      " 13  production_companies  1494 non-null   object \n",
      " 14  production_countries  1494 non-null   object \n",
      " 15  release_date          1494 non-null   object \n",
      " 16  revenue               1494 non-null   int64  \n",
      " 17  runtime               1494 non-null   float64\n",
      " 18  spoken_languages      1494 non-null   object \n",
      " 19  status                1494 non-null   object \n",
      " 20  tagline               1494 non-null   object \n",
      " 21  vote_average          1494 non-null   float64\n",
      " 22  vote_count            1494 non-null   int64  \n",
      "dtypes: float64(3), int64(5), object(15)\n",
      "memory usage: 280.1+ KB\n"
     ]
    }
   ],
   "source": [
    "df.info() #checking info of our DF"
   ]
  },
  {
   "cell_type": "code",
   "execution_count": 167,
   "id": "c7b06a8c-d559-4577-9be4-e1402e0fd276",
   "metadata": {},
   "outputs": [
    {
     "data": {
      "text/html": [
       "<div>\n",
       "<style scoped>\n",
       "    .dataframe tbody tr th:only-of-type {\n",
       "        vertical-align: middle;\n",
       "    }\n",
       "\n",
       "    .dataframe tbody tr th {\n",
       "        vertical-align: top;\n",
       "    }\n",
       "\n",
       "    .dataframe thead th {\n",
       "        text-align: right;\n",
       "    }\n",
       "</style>\n",
       "<table border=\"1\" class=\"dataframe\">\n",
       "  <thead>\n",
       "    <tr style=\"text-align: right;\">\n",
       "      <th></th>\n",
       "      <th>movie_id</th>\n",
       "      <th>title</th>\n",
       "      <th>genres</th>\n",
       "      <th>cast</th>\n",
       "      <th>overview</th>\n",
       "      <th>keywords</th>\n",
       "      <th>crew</th>\n",
       "    </tr>\n",
       "  </thead>\n",
       "  <tbody>\n",
       "    <tr>\n",
       "      <th>0</th>\n",
       "      <td>19995</td>\n",
       "      <td>Avatar</td>\n",
       "      <td>[{\"id\": 28, \"name\": \"Action\"}, {\"id\": 12, \"nam...</td>\n",
       "      <td>[{\"cast_id\": 242, \"character\": \"Jake Sully\", \"...</td>\n",
       "      <td>In the 22nd century, a paraplegic Marine is di...</td>\n",
       "      <td>[{\"id\": 1463, \"name\": \"culture clash\"}, {\"id\":...</td>\n",
       "      <td>[{\"credit_id\": \"52fe48009251416c750aca23\", \"de...</td>\n",
       "    </tr>\n",
       "    <tr>\n",
       "      <th>1</th>\n",
       "      <td>285</td>\n",
       "      <td>Pirates of the Caribbean: At World's End</td>\n",
       "      <td>[{\"id\": 12, \"name\": \"Adventure\"}, {\"id\": 14, \"...</td>\n",
       "      <td>[{\"cast_id\": 4, \"character\": \"Captain Jack Spa...</td>\n",
       "      <td>Captain Barbossa, long believed to be dead, ha...</td>\n",
       "      <td>[{\"id\": 270, \"name\": \"ocean\"}, {\"id\": 726, \"na...</td>\n",
       "      <td>[{\"credit_id\": \"52fe4232c3a36847f800b579\", \"de...</td>\n",
       "    </tr>\n",
       "    <tr>\n",
       "      <th>2</th>\n",
       "      <td>206647</td>\n",
       "      <td>Spectre</td>\n",
       "      <td>[{\"id\": 28, \"name\": \"Action\"}, {\"id\": 12, \"nam...</td>\n",
       "      <td>[{\"cast_id\": 1, \"character\": \"James Bond\", \"cr...</td>\n",
       "      <td>A cryptic message from Bond’s past sends him o...</td>\n",
       "      <td>[{\"id\": 470, \"name\": \"spy\"}, {\"id\": 818, \"name...</td>\n",
       "      <td>[{\"credit_id\": \"54805967c3a36829b5002c41\", \"de...</td>\n",
       "    </tr>\n",
       "    <tr>\n",
       "      <th>3</th>\n",
       "      <td>49026</td>\n",
       "      <td>The Dark Knight Rises</td>\n",
       "      <td>[{\"id\": 28, \"name\": \"Action\"}, {\"id\": 80, \"nam...</td>\n",
       "      <td>[{\"cast_id\": 2, \"character\": \"Bruce Wayne / Ba...</td>\n",
       "      <td>Following the death of District Attorney Harve...</td>\n",
       "      <td>[{\"id\": 849, \"name\": \"dc comics\"}, {\"id\": 853,...</td>\n",
       "      <td>[{\"credit_id\": \"52fe4781c3a36847f81398c3\", \"de...</td>\n",
       "    </tr>\n",
       "    <tr>\n",
       "      <th>4</th>\n",
       "      <td>49529</td>\n",
       "      <td>John Carter</td>\n",
       "      <td>[{\"id\": 28, \"name\": \"Action\"}, {\"id\": 12, \"nam...</td>\n",
       "      <td>[{\"cast_id\": 5, \"character\": \"John Carter\", \"c...</td>\n",
       "      <td>John Carter is a war-weary, former military ca...</td>\n",
       "      <td>[{\"id\": 818, \"name\": \"based on novel\"}, {\"id\":...</td>\n",
       "      <td>[{\"credit_id\": \"52fe479ac3a36847f813eaa3\", \"de...</td>\n",
       "    </tr>\n",
       "  </tbody>\n",
       "</table>\n",
       "</div>"
      ],
      "text/plain": [
       "   movie_id                                     title  \\\n",
       "0     19995                                    Avatar   \n",
       "1       285  Pirates of the Caribbean: At World's End   \n",
       "2    206647                                   Spectre   \n",
       "3     49026                     The Dark Knight Rises   \n",
       "4     49529                               John Carter   \n",
       "\n",
       "                                              genres  \\\n",
       "0  [{\"id\": 28, \"name\": \"Action\"}, {\"id\": 12, \"nam...   \n",
       "1  [{\"id\": 12, \"name\": \"Adventure\"}, {\"id\": 14, \"...   \n",
       "2  [{\"id\": 28, \"name\": \"Action\"}, {\"id\": 12, \"nam...   \n",
       "3  [{\"id\": 28, \"name\": \"Action\"}, {\"id\": 80, \"nam...   \n",
       "4  [{\"id\": 28, \"name\": \"Action\"}, {\"id\": 12, \"nam...   \n",
       "\n",
       "                                                cast  \\\n",
       "0  [{\"cast_id\": 242, \"character\": \"Jake Sully\", \"...   \n",
       "1  [{\"cast_id\": 4, \"character\": \"Captain Jack Spa...   \n",
       "2  [{\"cast_id\": 1, \"character\": \"James Bond\", \"cr...   \n",
       "3  [{\"cast_id\": 2, \"character\": \"Bruce Wayne / Ba...   \n",
       "4  [{\"cast_id\": 5, \"character\": \"John Carter\", \"c...   \n",
       "\n",
       "                                            overview  \\\n",
       "0  In the 22nd century, a paraplegic Marine is di...   \n",
       "1  Captain Barbossa, long believed to be dead, ha...   \n",
       "2  A cryptic message from Bond’s past sends him o...   \n",
       "3  Following the death of District Attorney Harve...   \n",
       "4  John Carter is a war-weary, former military ca...   \n",
       "\n",
       "                                            keywords  \\\n",
       "0  [{\"id\": 1463, \"name\": \"culture clash\"}, {\"id\":...   \n",
       "1  [{\"id\": 270, \"name\": \"ocean\"}, {\"id\": 726, \"na...   \n",
       "2  [{\"id\": 470, \"name\": \"spy\"}, {\"id\": 818, \"name...   \n",
       "3  [{\"id\": 849, \"name\": \"dc comics\"}, {\"id\": 853,...   \n",
       "4  [{\"id\": 818, \"name\": \"based on novel\"}, {\"id\":...   \n",
       "\n",
       "                                                crew  \n",
       "0  [{\"credit_id\": \"52fe48009251416c750aca23\", \"de...  \n",
       "1  [{\"credit_id\": \"52fe4232c3a36847f800b579\", \"de...  \n",
       "2  [{\"credit_id\": \"54805967c3a36829b5002c41\", \"de...  \n",
       "3  [{\"credit_id\": \"52fe4781c3a36847f81398c3\", \"de...  \n",
       "4  [{\"credit_id\": \"52fe479ac3a36847f813eaa3\", \"de...  "
      ]
     },
     "execution_count": 167,
     "metadata": {},
     "output_type": "execute_result"
    }
   ],
   "source": [
    "#Feature selection---Keeping on;lly required Columns\n",
    "df = df[['movie_id','title','genres','cast','overview','keywords','crew']]\n",
    "df.head()"
   ]
  },
  {
   "cell_type": "code",
   "execution_count": 168,
   "id": "9cbf0794-44fb-4336-bc7b-f0425b4a9e91",
   "metadata": {},
   "outputs": [
    {
     "data": {
      "text/plain": [
       "'[{\"id\": 28, \"name\": \"Action\"}, {\"id\": 12, \"name\": \"Adventure\"}, {\"id\": 14, \"name\": \"Fantasy\"}, {\"id\": 878, \"name\": \"Science Fiction\"}]'"
      ]
     },
     "execution_count": 168,
     "metadata": {},
     "output_type": "execute_result"
    }
   ],
   "source": [
    "df.iloc[0].genres #exploring out data, Data Cleaning"
   ]
  },
  {
   "cell_type": "code",
   "execution_count": 169,
   "id": "912137d0-8cf4-4abf-9079-8ae550bfd3ce",
   "metadata": {},
   "outputs": [],
   "source": [
    "# def clean_data(df, columns_to_clean):\n",
    "#     for col in columns_to_clean:\n",
    "#         if df[col].dtype == 'object':  # Check if column contains text data\n",
    "#             df[col] = df[col].apply(lambda x: clean_text(x))\n",
    "#     return df\n",
    "\n",
    "# def clean_text(text):\n",
    "#     try:\n",
    "#         cleaned_text = ast.literal_eval(text)\n",
    "#         cleaned_text = [item['name'] for item in cleaned_text]\n",
    "#         return ', '.join(cleaned_text)\n",
    "#     except ValueError:\n",
    "#         return text"
   ]
  },
  {
   "cell_type": "markdown",
   "id": "0d9c39eb-5c46-4c46-b62c-63e5b6467ffa",
   "metadata": {},
   "source": [
    "### Seems like our data is all messed and not parsed correctly. It is in Json format we need to clean and extract data in a way we can you it.\n",
    "### Let's try to clean our data"
   ]
  },
  {
   "cell_type": "code",
   "execution_count": 170,
   "id": "9c8fff45-5238-4107-8158-afc927aaf826",
   "metadata": {},
   "outputs": [
    {
     "data": {
      "text/html": [
       "<div>\n",
       "<style scoped>\n",
       "    .dataframe tbody tr th:only-of-type {\n",
       "        vertical-align: middle;\n",
       "    }\n",
       "\n",
       "    .dataframe tbody tr th {\n",
       "        vertical-align: top;\n",
       "    }\n",
       "\n",
       "    .dataframe thead th {\n",
       "        text-align: right;\n",
       "    }\n",
       "</style>\n",
       "<table border=\"1\" class=\"dataframe\">\n",
       "  <thead>\n",
       "    <tr style=\"text-align: right;\">\n",
       "      <th></th>\n",
       "      <th>movie_id</th>\n",
       "      <th>title</th>\n",
       "      <th>genres</th>\n",
       "      <th>cast</th>\n",
       "      <th>overview</th>\n",
       "      <th>keywords</th>\n",
       "      <th>crew</th>\n",
       "    </tr>\n",
       "  </thead>\n",
       "  <tbody>\n",
       "    <tr>\n",
       "      <th>0</th>\n",
       "      <td>19995</td>\n",
       "      <td>Avatar</td>\n",
       "      <td>[{\"id\": 28, \"name\": \"Action\"}, {\"id\": 12, \"nam...</td>\n",
       "      <td>[{\"cast_id\": 242, \"character\": \"Jake Sully\", \"...</td>\n",
       "      <td>In the 22nd century, a paraplegic Marine is di...</td>\n",
       "      <td>[{\"id\": 1463, \"name\": \"culture clash\"}, {\"id\":...</td>\n",
       "      <td>[{\"credit_id\": \"52fe48009251416c750aca23\", \"de...</td>\n",
       "    </tr>\n",
       "    <tr>\n",
       "      <th>1</th>\n",
       "      <td>285</td>\n",
       "      <td>Pirates of the Caribbean: At World's End</td>\n",
       "      <td>[{\"id\": 12, \"name\": \"Adventure\"}, {\"id\": 14, \"...</td>\n",
       "      <td>[{\"cast_id\": 4, \"character\": \"Captain Jack Spa...</td>\n",
       "      <td>Captain Barbossa, long believed to be dead, ha...</td>\n",
       "      <td>[{\"id\": 270, \"name\": \"ocean\"}, {\"id\": 726, \"na...</td>\n",
       "      <td>[{\"credit_id\": \"52fe4232c3a36847f800b579\", \"de...</td>\n",
       "    </tr>\n",
       "    <tr>\n",
       "      <th>2</th>\n",
       "      <td>206647</td>\n",
       "      <td>Spectre</td>\n",
       "      <td>[{\"id\": 28, \"name\": \"Action\"}, {\"id\": 12, \"nam...</td>\n",
       "      <td>[{\"cast_id\": 1, \"character\": \"James Bond\", \"cr...</td>\n",
       "      <td>A cryptic message from Bond’s past sends him o...</td>\n",
       "      <td>[{\"id\": 470, \"name\": \"spy\"}, {\"id\": 818, \"name...</td>\n",
       "      <td>[{\"credit_id\": \"54805967c3a36829b5002c41\", \"de...</td>\n",
       "    </tr>\n",
       "    <tr>\n",
       "      <th>3</th>\n",
       "      <td>49026</td>\n",
       "      <td>The Dark Knight Rises</td>\n",
       "      <td>[{\"id\": 28, \"name\": \"Action\"}, {\"id\": 80, \"nam...</td>\n",
       "      <td>[{\"cast_id\": 2, \"character\": \"Bruce Wayne / Ba...</td>\n",
       "      <td>Following the death of District Attorney Harve...</td>\n",
       "      <td>[{\"id\": 849, \"name\": \"dc comics\"}, {\"id\": 853,...</td>\n",
       "      <td>[{\"credit_id\": \"52fe4781c3a36847f81398c3\", \"de...</td>\n",
       "    </tr>\n",
       "    <tr>\n",
       "      <th>4</th>\n",
       "      <td>49529</td>\n",
       "      <td>John Carter</td>\n",
       "      <td>[{\"id\": 28, \"name\": \"Action\"}, {\"id\": 12, \"nam...</td>\n",
       "      <td>[{\"cast_id\": 5, \"character\": \"John Carter\", \"c...</td>\n",
       "      <td>John Carter is a war-weary, former military ca...</td>\n",
       "      <td>[{\"id\": 818, \"name\": \"based on novel\"}, {\"id\":...</td>\n",
       "      <td>[{\"credit_id\": \"52fe479ac3a36847f813eaa3\", \"de...</td>\n",
       "    </tr>\n",
       "  </tbody>\n",
       "</table>\n",
       "</div>"
      ],
      "text/plain": [
       "   movie_id                                     title  \\\n",
       "0     19995                                    Avatar   \n",
       "1       285  Pirates of the Caribbean: At World's End   \n",
       "2    206647                                   Spectre   \n",
       "3     49026                     The Dark Knight Rises   \n",
       "4     49529                               John Carter   \n",
       "\n",
       "                                              genres  \\\n",
       "0  [{\"id\": 28, \"name\": \"Action\"}, {\"id\": 12, \"nam...   \n",
       "1  [{\"id\": 12, \"name\": \"Adventure\"}, {\"id\": 14, \"...   \n",
       "2  [{\"id\": 28, \"name\": \"Action\"}, {\"id\": 12, \"nam...   \n",
       "3  [{\"id\": 28, \"name\": \"Action\"}, {\"id\": 80, \"nam...   \n",
       "4  [{\"id\": 28, \"name\": \"Action\"}, {\"id\": 12, \"nam...   \n",
       "\n",
       "                                                cast  \\\n",
       "0  [{\"cast_id\": 242, \"character\": \"Jake Sully\", \"...   \n",
       "1  [{\"cast_id\": 4, \"character\": \"Captain Jack Spa...   \n",
       "2  [{\"cast_id\": 1, \"character\": \"James Bond\", \"cr...   \n",
       "3  [{\"cast_id\": 2, \"character\": \"Bruce Wayne / Ba...   \n",
       "4  [{\"cast_id\": 5, \"character\": \"John Carter\", \"c...   \n",
       "\n",
       "                                            overview  \\\n",
       "0  In the 22nd century, a paraplegic Marine is di...   \n",
       "1  Captain Barbossa, long believed to be dead, ha...   \n",
       "2  A cryptic message from Bond’s past sends him o...   \n",
       "3  Following the death of District Attorney Harve...   \n",
       "4  John Carter is a war-weary, former military ca...   \n",
       "\n",
       "                                            keywords  \\\n",
       "0  [{\"id\": 1463, \"name\": \"culture clash\"}, {\"id\":...   \n",
       "1  [{\"id\": 270, \"name\": \"ocean\"}, {\"id\": 726, \"na...   \n",
       "2  [{\"id\": 470, \"name\": \"spy\"}, {\"id\": 818, \"name...   \n",
       "3  [{\"id\": 849, \"name\": \"dc comics\"}, {\"id\": 853,...   \n",
       "4  [{\"id\": 818, \"name\": \"based on novel\"}, {\"id\":...   \n",
       "\n",
       "                                                crew  \n",
       "0  [{\"credit_id\": \"52fe48009251416c750aca23\", \"de...  \n",
       "1  [{\"credit_id\": \"52fe4232c3a36847f800b579\", \"de...  \n",
       "2  [{\"credit_id\": \"54805967c3a36829b5002c41\", \"de...  \n",
       "3  [{\"credit_id\": \"52fe4781c3a36847f81398c3\", \"de...  \n",
       "4  [{\"credit_id\": \"52fe479ac3a36847f813eaa3\", \"de...  "
      ]
     },
     "execution_count": 170,
     "metadata": {},
     "output_type": "execute_result"
    }
   ],
   "source": [
    "df.head()"
   ]
  },
  {
   "cell_type": "markdown",
   "id": "94e1678d-1868-48e4-b398-2de7ee1a9ed7",
   "metadata": {},
   "source": [
    "### The ast.literal_eval() function in Python is used to evaluate a string containing a Python literal or container display (e.g., lists, dictionaries, tuples) safely. It parses the string and returns the corresponding Python object.\n",
    "the input string is a list of dictionaries, where each dictionary represents a genre with an ID and a name. The string represents a JSON-like format, but it is enclosed within square brackets ([]), indicating a list of dictionaries.\r\n",
    "\r\n",
    "When ast.literal_eval() is called with this string as an argument, it safely evaluates the string and returns the corresponding Python object, which is a list of dictionaries:"
   ]
  },
  {
   "cell_type": "code",
   "execution_count": 171,
   "id": "651b1a8c-048d-4e3b-890b-cbea23cf5d18",
   "metadata": {},
   "outputs": [
    {
     "data": {
      "text/plain": [
       "[{'id': 28, 'name': 'Action'},\n",
       " {'id': 12, 'name': 'Adventure'},\n",
       " {'id': 14, 'name': 'Fantasy'},\n",
       " {'id': 878, 'name': 'Science Fiction'}]"
      ]
     },
     "execution_count": 171,
     "metadata": {},
     "output_type": "execute_result"
    }
   ],
   "source": [
    "#step  by step breakdown of code for single columns\n",
    "#working sample \n",
    "import ast\n",
    "ast.literal_eval('[{\"id\": 28, \"name\": \"Action\"}, {\"id\": 12, \"name\": \"Adventure\"}, {\"id\": 14, \"name\": \"Fantasy\"}, {\"id\": 878, \"name\": \"Science Fiction\"}]')"
   ]
  },
  {
   "cell_type": "markdown",
   "id": "2f76f4fa-3a40-4207-8b84-8e5829551e24",
   "metadata": {},
   "source": [
    "1.The function starts by initializing an empty list called List.\n",
    "\n",
    "2.It then iterates over each element in the list obtained by evaluating the input string using ast.literal_eval(obj). This input string is assumed to represent a list of dictionaries, where each dictionary contains a key-value pair with the key \"name\" representing some name.\n",
    "\r",
    "3.Within the loop, it appends the value associated with the key \"name\" in each dictionary to the List list.\n",
    "\n",
    "4.After iterating over all elements in the input list, the function returns the List containing the names extracted from the dictionaries.\n",
    "\r\n"
   ]
  },
  {
   "cell_type": "code",
   "execution_count": 172,
   "id": "7724e54b-82c5-465b-a16b-6d807634d703",
   "metadata": {},
   "outputs": [],
   "source": [
    "#step  by step breakdown of code for remaining columns\n",
    "def transform(obj):\n",
    "    List = []\n",
    "    for i in ast.literal_eval(obj):\n",
    "        List.append(i[\"name\"])\n",
    "    return List\n"
   ]
  },
  {
   "cell_type": "code",
   "execution_count": 174,
   "id": "b8339fe7-66c6-409e-843b-c51adf7af077",
   "metadata": {},
   "outputs": [],
   "source": [
    "df['genres'] = df['genres'].apply(transform) #use .apply to apply our created function"
   ]
  },
  {
   "cell_type": "code",
   "execution_count": 175,
   "id": "f2703ee4-0c08-4a55-8b0e-bd7becc543b1",
   "metadata": {},
   "outputs": [
    {
     "data": {
      "text/plain": [
       "0    [Action, Adventure, Fantasy, Science Fiction]\n",
       "1                     [Adventure, Fantasy, Action]\n",
       "2                       [Action, Adventure, Crime]\n",
       "3                 [Action, Crime, Drama, Thriller]\n",
       "4             [Action, Adventure, Science Fiction]\n",
       "Name: genres, dtype: object"
      ]
     },
     "execution_count": 175,
     "metadata": {},
     "output_type": "execute_result"
    }
   ],
   "source": [
    "df['genres'].head()"
   ]
  },
  {
   "cell_type": "code",
   "execution_count": 176,
   "id": "24c86221-e43f-49ed-aa59-15730877dd52",
   "metadata": {},
   "outputs": [
    {
     "data": {
      "text/plain": [
       "0    [culture clash, future, space war, space colon...\n",
       "1    [ocean, drug abuse, exotic island, east india ...\n",
       "2    [spy, based on novel, secret agent, sequel, mi...\n",
       "3    [dc comics, crime fighter, terrorist, secret i...\n",
       "4    [based on novel, mars, medallion, space travel...\n",
       "Name: keywords, dtype: object"
      ]
     },
     "execution_count": 176,
     "metadata": {},
     "output_type": "execute_result"
    }
   ],
   "source": [
    "df['keywords'] = df['keywords'].apply(transform)\n",
    "df['keywords'].head()"
   ]
  },
  {
   "cell_type": "markdown",
   "id": "cd675b8e-6481-42ee-bb29-d48f9683ae49",
   "metadata": {},
   "source": [
    "Small adjustment in this below code.\n",
    "\n",
    "We only need first 3 members as top 3 will be the movie's main leads"
   ]
  },
  {
   "cell_type": "code",
   "execution_count": 177,
   "id": "9aeeee13-b881-43c6-a7d3-96c38d4fc0b1",
   "metadata": {},
   "outputs": [],
   "source": [
    "def transform1(obj):\n",
    "    List = [] #intializing counter to keep track of the count\n",
    "    counter = 0\n",
    "    for i in ast.literal_eval(obj):\n",
    "        if counter != 3:\n",
    "            List.append(i['name'])\n",
    "            counter += 1  \n",
    "        else:\n",
    "            break #using break statement out of loop\n",
    "    return List"
   ]
  },
  {
   "cell_type": "code",
   "execution_count": 178,
   "id": "1ee627d6-347c-4349-b15e-6b97a0410af8",
   "metadata": {},
   "outputs": [
    {
     "data": {
      "text/plain": [
       "0    [Sam Worthington, Zoe Saldana, Sigourney Weaver]\n",
       "1       [Johnny Depp, Orlando Bloom, Keira Knightley]\n",
       "2        [Daniel Craig, Christoph Waltz, Léa Seydoux]\n",
       "3        [Christian Bale, Michael Caine, Gary Oldman]\n",
       "4      [Taylor Kitsch, Lynn Collins, Samantha Morton]\n",
       "Name: cast, dtype: object"
      ]
     },
     "execution_count": 178,
     "metadata": {},
     "output_type": "execute_result"
    }
   ],
   "source": [
    "df['cast'] = df['cast'].apply(transform1)\n",
    "df['cast'].head()"
   ]
  },
  {
   "cell_type": "code",
   "execution_count": 179,
   "id": "81e040b9-2e5a-4b55-8ab1-42bafa0bc4ef",
   "metadata": {},
   "outputs": [],
   "source": [
    "def fetch_director(text): #Extracting Director name from cast\n",
    "    List = []\n",
    "    for i in ast.literal_eval(text):\n",
    "        if i['job'] == 'Director':\n",
    "            List.append(i['name'])\n",
    "    return List "
   ]
  },
  {
   "cell_type": "code",
   "execution_count": 180,
   "id": "60db3dee-e388-47ee-ba72-ace16fa430a9",
   "metadata": {},
   "outputs": [
    {
     "data": {
      "text/plain": [
       "0        [James Cameron]\n",
       "1       [Gore Verbinski]\n",
       "2           [Sam Mendes]\n",
       "3    [Christopher Nolan]\n",
       "4       [Andrew Stanton]\n",
       "Name: crew, dtype: object"
      ]
     },
     "execution_count": 180,
     "metadata": {},
     "output_type": "execute_result"
    }
   ],
   "source": [
    "df['crew'] = df['crew'].apply(fetch_director)#Applying the created function here\n",
    "df['crew'].head()"
   ]
  },
  {
   "cell_type": "code",
   "execution_count": 181,
   "id": "6b2514c8-4d20-4a5a-aef6-3116f39ec2c1",
   "metadata": {},
   "outputs": [],
   "source": [
    "#df['overview'] = df['overview'].apply(lambda x:x.split()) "
   ]
  },
  {
   "cell_type": "code",
   "execution_count": 183,
   "id": "3df60848-8645-4564-a33d-70191e8281e7",
   "metadata": {},
   "outputs": [
    {
     "data": {
      "text/plain": [
       "0    [In, the, 22nd, century,, a, paraplegic, Marin...\n",
       "1    [Captain, Barbossa,, long, believed, to, be, d...\n",
       "2    [A, cryptic, message, from, Bond’s, past, send...\n",
       "3    [Following, the, death, of, District, Attorney...\n",
       "4    [John, Carter, is, a, war-weary,, former, mili...\n",
       "Name: overview, dtype: object"
      ]
     },
     "execution_count": 183,
     "metadata": {},
     "output_type": "execute_result"
    }
   ],
   "source": [
    "#df['overview'].head()\n"
   ]
  },
  {
   "cell_type": "markdown",
   "id": "65422728-b5c9-4638-9548-1ed052b812e9",
   "metadata": {},
   "source": [
    "Removing spaces in between crew names so that names will not be divided when names are tokenized"
   ]
  },
  {
   "cell_type": "code",
   "execution_count": 184,
   "id": "faa18640-3286-479c-b68e-c2b17e966fbe",
   "metadata": {},
   "outputs": [],
   "source": [
    "df['genres'] = df['genres'].apply(lambda x:[i.replace(\" \",\"\") for i in x]) \n",
    "df['keywords'] = df['keywords'].apply(lambda x:[i.replace(\" \",\"\") for i in x])\n",
    "df['cast'] = df['cast'].apply(lambda x:[i.replace(\" \",\"\") for i in x])\n",
    "df['crew'] = df['crew'].apply(lambda x:[i.replace(\" \",\"\") for i in x])"
   ]
  },
  {
   "cell_type": "code",
   "execution_count": 185,
   "id": "a95e7c27-b5cd-4d68-97cb-7c0636f5eed3",
   "metadata": {},
   "outputs": [
    {
     "data": {
      "text/html": [
       "<div>\n",
       "<style scoped>\n",
       "    .dataframe tbody tr th:only-of-type {\n",
       "        vertical-align: middle;\n",
       "    }\n",
       "\n",
       "    .dataframe tbody tr th {\n",
       "        vertical-align: top;\n",
       "    }\n",
       "\n",
       "    .dataframe thead th {\n",
       "        text-align: right;\n",
       "    }\n",
       "</style>\n",
       "<table border=\"1\" class=\"dataframe\">\n",
       "  <thead>\n",
       "    <tr style=\"text-align: right;\">\n",
       "      <th></th>\n",
       "      <th>movie_id</th>\n",
       "      <th>title</th>\n",
       "      <th>genres</th>\n",
       "      <th>cast</th>\n",
       "      <th>overview</th>\n",
       "      <th>keywords</th>\n",
       "      <th>crew</th>\n",
       "    </tr>\n",
       "  </thead>\n",
       "  <tbody>\n",
       "    <tr>\n",
       "      <th>0</th>\n",
       "      <td>19995</td>\n",
       "      <td>Avatar</td>\n",
       "      <td>[Action, Adventure, Fantasy, ScienceFiction]</td>\n",
       "      <td>[SamWorthington, ZoeSaldana, SigourneyWeaver]</td>\n",
       "      <td>[In, the, 22nd, century,, a, paraplegic, Marin...</td>\n",
       "      <td>[cultureclash, future, spacewar, spacecolony, ...</td>\n",
       "      <td>[JamesCameron]</td>\n",
       "    </tr>\n",
       "  </tbody>\n",
       "</table>\n",
       "</div>"
      ],
      "text/plain": [
       "   movie_id   title                                        genres  \\\n",
       "0     19995  Avatar  [Action, Adventure, Fantasy, ScienceFiction]   \n",
       "\n",
       "                                            cast  \\\n",
       "0  [SamWorthington, ZoeSaldana, SigourneyWeaver]   \n",
       "\n",
       "                                            overview  \\\n",
       "0  [In, the, 22nd, century,, a, paraplegic, Marin...   \n",
       "\n",
       "                                            keywords            crew  \n",
       "0  [cultureclash, future, spacewar, spacecolony, ...  [JamesCameron]  "
      ]
     },
     "execution_count": 185,
     "metadata": {},
     "output_type": "execute_result"
    }
   ],
   "source": [
    "df.head(1)"
   ]
  },
  {
   "cell_type": "markdown",
   "id": "8ddc4642-3a37-43f1-b0f5-a41391ad52c9",
   "metadata": {},
   "source": [
    "Create a new column with all the required details in one column so that we can grab connection between the words and recommend title basewd on that relation."
   ]
  },
  {
   "cell_type": "code",
   "execution_count": 186,
   "id": "eab04826-199e-4cc2-869c-39637fee6eb4",
   "metadata": {},
   "outputs": [],
   "source": [
    "df['Details'] = df['overview'] + df['genres'] + df['keywords'] + df['cast'] + df['crew'] # order wise arrange our new columns"
   ]
  },
  {
   "cell_type": "code",
   "execution_count": 188,
   "id": "d373cc41-c5da-48e7-99f3-902075c93928",
   "metadata": {},
   "outputs": [
    {
     "data": {
      "text/html": [
       "<div>\n",
       "<style scoped>\n",
       "    .dataframe tbody tr th:only-of-type {\n",
       "        vertical-align: middle;\n",
       "    }\n",
       "\n",
       "    .dataframe tbody tr th {\n",
       "        vertical-align: top;\n",
       "    }\n",
       "\n",
       "    .dataframe thead th {\n",
       "        text-align: right;\n",
       "    }\n",
       "</style>\n",
       "<table border=\"1\" class=\"dataframe\">\n",
       "  <thead>\n",
       "    <tr style=\"text-align: right;\">\n",
       "      <th></th>\n",
       "      <th>movie_id</th>\n",
       "      <th>title</th>\n",
       "      <th>Details</th>\n",
       "    </tr>\n",
       "  </thead>\n",
       "  <tbody>\n",
       "    <tr>\n",
       "      <th>0</th>\n",
       "      <td>19995</td>\n",
       "      <td>Avatar</td>\n",
       "      <td>[In, the, 22nd, century,, a, paraplegic, Marin...</td>\n",
       "    </tr>\n",
       "    <tr>\n",
       "      <th>1</th>\n",
       "      <td>285</td>\n",
       "      <td>Pirates of the Caribbean: At World's End</td>\n",
       "      <td>[Captain, Barbossa,, long, believed, to, be, d...</td>\n",
       "    </tr>\n",
       "    <tr>\n",
       "      <th>2</th>\n",
       "      <td>206647</td>\n",
       "      <td>Spectre</td>\n",
       "      <td>[A, cryptic, message, from, Bond’s, past, send...</td>\n",
       "    </tr>\n",
       "    <tr>\n",
       "      <th>3</th>\n",
       "      <td>49026</td>\n",
       "      <td>The Dark Knight Rises</td>\n",
       "      <td>[Following, the, death, of, District, Attorney...</td>\n",
       "    </tr>\n",
       "    <tr>\n",
       "      <th>4</th>\n",
       "      <td>49529</td>\n",
       "      <td>John Carter</td>\n",
       "      <td>[John, Carter, is, a, war-weary,, former, mili...</td>\n",
       "    </tr>\n",
       "  </tbody>\n",
       "</table>\n",
       "</div>"
      ],
      "text/plain": [
       "   movie_id                                     title  \\\n",
       "0     19995                                    Avatar   \n",
       "1       285  Pirates of the Caribbean: At World's End   \n",
       "2    206647                                   Spectre   \n",
       "3     49026                     The Dark Knight Rises   \n",
       "4     49529                               John Carter   \n",
       "\n",
       "                                             Details  \n",
       "0  [In, the, 22nd, century,, a, paraplegic, Marin...  \n",
       "1  [Captain, Barbossa,, long, believed, to, be, d...  \n",
       "2  [A, cryptic, message, from, Bond’s, past, send...  \n",
       "3  [Following, the, death, of, District, Attorney...  \n",
       "4  [John, Carter, is, a, war-weary,, former, mili...  "
      ]
     },
     "execution_count": 188,
     "metadata": {},
     "output_type": "execute_result"
    }
   ],
   "source": [
    "df = df[['movie_id','title','Details']]\n",
    "df.head()"
   ]
  },
  {
   "cell_type": "code",
   "execution_count": 190,
   "id": "6aea7d51-1afb-4fe3-9ea9-9ec48218674e",
   "metadata": {},
   "outputs": [
    {
     "data": {
      "text/html": [
       "<div>\n",
       "<style scoped>\n",
       "    .dataframe tbody tr th:only-of-type {\n",
       "        vertical-align: middle;\n",
       "    }\n",
       "\n",
       "    .dataframe tbody tr th {\n",
       "        vertical-align: top;\n",
       "    }\n",
       "\n",
       "    .dataframe thead th {\n",
       "        text-align: right;\n",
       "    }\n",
       "</style>\n",
       "<table border=\"1\" class=\"dataframe\">\n",
       "  <thead>\n",
       "    <tr style=\"text-align: right;\">\n",
       "      <th></th>\n",
       "      <th>movie_id</th>\n",
       "      <th>title</th>\n",
       "      <th>Details</th>\n",
       "    </tr>\n",
       "  </thead>\n",
       "  <tbody>\n",
       "    <tr>\n",
       "      <th>0</th>\n",
       "      <td>19995</td>\n",
       "      <td>Avatar</td>\n",
       "      <td>In the 22nd century, a paraplegic Marine is di...</td>\n",
       "    </tr>\n",
       "    <tr>\n",
       "      <th>1</th>\n",
       "      <td>285</td>\n",
       "      <td>Pirates of the Caribbean: At World's End</td>\n",
       "      <td>Captain Barbossa, long believed to be dead, ha...</td>\n",
       "    </tr>\n",
       "    <tr>\n",
       "      <th>2</th>\n",
       "      <td>206647</td>\n",
       "      <td>Spectre</td>\n",
       "      <td>A cryptic message from Bond’s past sends him o...</td>\n",
       "    </tr>\n",
       "    <tr>\n",
       "      <th>3</th>\n",
       "      <td>49026</td>\n",
       "      <td>The Dark Knight Rises</td>\n",
       "      <td>Following the death of District Attorney Harve...</td>\n",
       "    </tr>\n",
       "    <tr>\n",
       "      <th>4</th>\n",
       "      <td>49529</td>\n",
       "      <td>John Carter</td>\n",
       "      <td>John Carter is a war-weary, former military ca...</td>\n",
       "    </tr>\n",
       "  </tbody>\n",
       "</table>\n",
       "</div>"
      ],
      "text/plain": [
       "   movie_id                                     title  \\\n",
       "0     19995                                    Avatar   \n",
       "1       285  Pirates of the Caribbean: At World's End   \n",
       "2    206647                                   Spectre   \n",
       "3     49026                     The Dark Knight Rises   \n",
       "4     49529                               John Carter   \n",
       "\n",
       "                                             Details  \n",
       "0  In the 22nd century, a paraplegic Marine is di...  \n",
       "1  Captain Barbossa, long believed to be dead, ha...  \n",
       "2  A cryptic message from Bond’s past sends him o...  \n",
       "3  Following the death of District Attorney Harve...  \n",
       "4  John Carter is a war-weary, former military ca...  "
      ]
     },
     "execution_count": 190,
     "metadata": {},
     "output_type": "execute_result"
    }
   ],
   "source": [
    "#df['Details'] = df['Details'].apply(lambda x: \" \".join(x))\n",
    "#df.head()"
   ]
  },
  {
   "cell_type": "code",
   "execution_count": 191,
   "id": "b1bc651d-c4aa-4605-9beb-4d56e84a73ab",
   "metadata": {},
   "outputs": [],
   "source": [
    "df['Details'] = df['Details'].apply(lambda x:x.lower()) \n",
    "# convert all details to lower case so that we avoid word repetation in word tokenizer"
   ]
  },
  {
   "cell_type": "code",
   "execution_count": 192,
   "id": "e3477bab-fcf6-4d92-ac6c-822a925afa82",
   "metadata": {},
   "outputs": [
    {
     "data": {
      "text/html": [
       "<div>\n",
       "<style scoped>\n",
       "    .dataframe tbody tr th:only-of-type {\n",
       "        vertical-align: middle;\n",
       "    }\n",
       "\n",
       "    .dataframe tbody tr th {\n",
       "        vertical-align: top;\n",
       "    }\n",
       "\n",
       "    .dataframe thead th {\n",
       "        text-align: right;\n",
       "    }\n",
       "</style>\n",
       "<table border=\"1\" class=\"dataframe\">\n",
       "  <thead>\n",
       "    <tr style=\"text-align: right;\">\n",
       "      <th></th>\n",
       "      <th>movie_id</th>\n",
       "      <th>title</th>\n",
       "      <th>Details</th>\n",
       "    </tr>\n",
       "  </thead>\n",
       "  <tbody>\n",
       "    <tr>\n",
       "      <th>0</th>\n",
       "      <td>19995</td>\n",
       "      <td>Avatar</td>\n",
       "      <td>in the 22nd century, a paraplegic marine is di...</td>\n",
       "    </tr>\n",
       "    <tr>\n",
       "      <th>1</th>\n",
       "      <td>285</td>\n",
       "      <td>Pirates of the Caribbean: At World's End</td>\n",
       "      <td>captain barbossa, long believed to be dead, ha...</td>\n",
       "    </tr>\n",
       "    <tr>\n",
       "      <th>2</th>\n",
       "      <td>206647</td>\n",
       "      <td>Spectre</td>\n",
       "      <td>a cryptic message from bond’s past sends him o...</td>\n",
       "    </tr>\n",
       "    <tr>\n",
       "      <th>3</th>\n",
       "      <td>49026</td>\n",
       "      <td>The Dark Knight Rises</td>\n",
       "      <td>following the death of district attorney harve...</td>\n",
       "    </tr>\n",
       "    <tr>\n",
       "      <th>4</th>\n",
       "      <td>49529</td>\n",
       "      <td>John Carter</td>\n",
       "      <td>john carter is a war-weary, former military ca...</td>\n",
       "    </tr>\n",
       "  </tbody>\n",
       "</table>\n",
       "</div>"
      ],
      "text/plain": [
       "   movie_id                                     title  \\\n",
       "0     19995                                    Avatar   \n",
       "1       285  Pirates of the Caribbean: At World's End   \n",
       "2    206647                                   Spectre   \n",
       "3     49026                     The Dark Knight Rises   \n",
       "4     49529                               John Carter   \n",
       "\n",
       "                                             Details  \n",
       "0  in the 22nd century, a paraplegic marine is di...  \n",
       "1  captain barbossa, long believed to be dead, ha...  \n",
       "2  a cryptic message from bond’s past sends him o...  \n",
       "3  following the death of district attorney harve...  \n",
       "4  john carter is a war-weary, former military ca...  "
      ]
     },
     "execution_count": 192,
     "metadata": {},
     "output_type": "execute_result"
    }
   ],
   "source": [
    "df.head()\n"
   ]
  },
  {
   "cell_type": "code",
   "execution_count": 198,
   "id": "98db9f03-4f2d-41cc-9e25-eb1fc13aed35",
   "metadata": {},
   "outputs": [],
   "source": [
    "import nltk\n",
    "from nltk.corpus import stopwords\n",
    "from nltk.tokenize import word_tokenize\n",
    "from nltk.stem import PorterStemmer"
   ]
  },
  {
   "cell_type": "code",
   "execution_count": null,
   "id": "1ab823cd-7e2f-4872-b8aa-a411ad596e8c",
   "metadata": {},
   "outputs": [],
   "source": [
    "# NLP realted libraries\n",
    "#Stopwords for removing less meaningful words\n",
    "#Stemming for creating base words\n",
    "#tokenizer for creating tokens from sentence"
   ]
  },
  {
   "cell_type": "code",
   "execution_count": 31,
   "id": "729984ba-afb5-4c68-b8b0-13db2ce87365",
   "metadata": {},
   "outputs": [
    {
     "name": "stderr",
     "output_type": "stream",
     "text": [
      "[nltk_data] Downloading package punkt to\n",
      "[nltk_data]     C:\\Users\\satis\\AppData\\Roaming\\nltk_data...\n",
      "[nltk_data]   Package punkt is already up-to-date!\n",
      "[nltk_data] Downloading package stopwords to\n",
      "[nltk_data]     C:\\Users\\satis\\AppData\\Roaming\\nltk_data...\n",
      "[nltk_data]   Package stopwords is already up-to-date!\n"
     ]
    },
    {
     "data": {
      "text/plain": [
       "True"
      ]
     },
     "execution_count": 31,
     "metadata": {},
     "output_type": "execute_result"
    }
   ],
   "source": [
    "# Download NLTK resources (run once)\n",
    "nltk.download('punkt')\n",
    "nltk.download('stopwords')"
   ]
  },
  {
   "cell_type": "code",
   "execution_count": 204,
   "id": "2d912145-2fea-4a20-95c3-29adce7ca9c8",
   "metadata": {},
   "outputs": [],
   "source": [
    "from sklearn.feature_extraction.text import CountVectorizer\n",
    "cv = CountVectorizer(max_features=5000,stop_words='english')\n",
    "vectors = cv.fit_transform(df['Details'])\n",
    "#vectorizing our words"
   ]
  },
  {
   "cell_type": "code",
   "execution_count": 205,
   "id": "9473dee1-b9c4-4d04-8cf9-a9f0c178d100",
   "metadata": {},
   "outputs": [
    {
     "name": "stdout",
     "output_type": "stream",
     "text": [
      "['00' '000' '007' '10' '100' '11' '12' '14' '15' '16']\n"
     ]
    }
   ],
   "source": [
    "feature_names = cv.get_feature_names_out()\n",
    "print(feature_names[:10])"
   ]
  },
  {
   "cell_type": "code",
   "execution_count": 206,
   "id": "c42b1b49-bd24-437c-94c3-47431f5acb83",
   "metadata": {},
   "outputs": [],
   "source": [
    "stemmed_feature_names = [\" \".join([PorterStemmer().stem(word) for word in word_tokenize(feature)]) for feature in feature_names]\n",
    "#forming sentence removing stopwords and applying stemming"
   ]
  },
  {
   "cell_type": "code",
   "execution_count": 207,
   "id": "ef0835a0-6e09-4f2c-8732-8b831080ef95",
   "metadata": {},
   "outputs": [],
   "source": [
    "unique_stemmed_feature_names = []\n",
    "seen = set()\n",
    "\n",
    "for feature in stemmed_feature_names:\n",
    "    if feature not in seen:\n",
    "        unique_stemmed_feature_names.append(feature)\n",
    "        seen.add(feature)"
   ]
  },
  {
   "cell_type": "code",
   "execution_count": 208,
   "id": "e4b3839a-a475-470b-afb4-d255c8d0d097",
   "metadata": {},
   "outputs": [
    {
     "name": "stdout",
     "output_type": "stream",
     "text": [
      "['00', '000', '007', '10', '100', '11', '12', '14', '15', '16', '17', '18th', '1950', '1960', '1970', '1979', '1980', '1985', '1999', '19th', '19thcenturi', '20', '2003', '2008', '2016', '2019', '20th', '21stcenturi', '24', '25', '30', '300', '3d', '40', '50', '500', '60', '70', 'aaron', 'aaroneckhart', 'abandon', 'abbiecornish', 'abduct', 'abigailbreslin', 'abil', 'abl', 'abus', 'academi', 'accept', 'access', 'accid', 'accident', 'accompani', 'account', 'accus', 'achiev', 'act', 'action', 'activist', 'activ', 'actor', 'actual', 'adam', 'adamsandl', 'adamshankman', 'adapt', 'addict', 'adjust', 'admir', 'adolesc', 'adopt', 'ador', 'adrenalin', 'adrian', 'adrienbrodi', 'adrift', 'adult', 'adulteri', 'advantag', 'adventur', 'advertis', 'advic', 'affair', 'affect', 'afghanistan', 'africa', 'african', 'africanamerican', 'aftercreditssting', 'afterlif', 'aftermath', 'age', 'agediffer', 'agenc', 'agenda', 'agent', 'ago', 'agre', 'ahead', 'aid', 'ail', 'aim', 'air', 'airborn', 'airplan', 'airport', 'aka', 'al', 'alaska', 'albert', 'alcohol', 'aldou', 'alecbaldwin', 'alex', 'alexkendrick', 'ali', 'alic', 'alien', 'alieninvas', 'alienplanet', 'alik', 'aliv', 'allianc', 'alli', 'allow', 'alongsid', 'alpacino', 'alpha', 'alter', 'altern', 'alternatehistori', 'alvin', 'alzheim', 'amandaseyfri', 'amaz', 'amazon', 'ambassador', 'amberheard', 'ambit', 'ambiti', 'ambush', 'america', 'american', 'americanabroad', 'americandream', 'americanfootbal', 'americanfootballplay', 'amid', 'amnesia', 'amp', 'amsterdam', 'amusementpark', 'amyadam', 'anakin', 'analyst', 'anarchist', 'ancient', 'ancientgreec', 'ancientworld', 'anderson', 'andrewgarfield', 'andrewstanton', 'android', 'andi', 'andyserki', 'angel', 'angelinajoli', 'anger', 'angle', 'angri', 'anim', 'animalattack', 'animalhorror', 'animallead', 'ann', 'anna', 'annabel', 'annafari', 'annakendrick', 'annehathaway', 'annemoss', 'annetteben', 'anni', 'annual', 'anonym', 'answer', 'ant', 'antarct', 'antarctica', 'anthoni', 'anthonyhopkin', 'anthonymacki', 'anthonyrusso', 'anthropomorph', 'anti', 'antic', 'antihero', 'antiterror', 'antoniobandera', 'antonyelchin', 'anxiou', 'apart', 'apartheid', 'ape', 'apocalyps', 'apocalypt', 'appear', 'appoint', 'apprentic', 'approach', 'april', 'aquarium', 'arab', 'arbitrarylaw', 'arcad', 'arch', 'archaeologist', 'archenemi', 'archeolog', 'archer', 'archeri', 'architect', 'area', 'arena', 'argument', 'aristocrat', 'arizona', 'ark', 'arm', 'armsdeal', 'armi', 'arnoldschwarzenegg', 'arrang', 'arrest', 'arriv', 'arrog', 'arson', 'art', 'artgalleri', 'arthur', 'articl', 'artifici', 'artificialinsemin', 'artificialintellig', 'artist', 'asabutterfield', 'asgard', 'ash', 'ashley', 'ashtonkutch', 'asia', 'ask', 'asleep', 'asperg', 'aspir', 'assassin', 'assault', 'assign', 'assist', 'assum', 'astronaut', 'asylum', 'atheist', 'athlet', 'atlanticocean', 'atomicbomb', 'attack', 'attempt', 'attempttoescap', 'attend', 'attent', 'attorney', 'attract', 'audienc', 'audit', 'audreytaut', 'august', 'aunt', 'australia', 'australian', 'author', 'auto', 'autobot', 'automaton', 'automobilerac', 'aveng', 'averag', 'avoid', 'await', 'awaken', 'award', 'away', 'awri', 'babi', 'babysitt', 'bachelor', 'backdrop', 'back', 'backstag', 'backyard', 'bad', 'badli', 'bahama', 'bail', 'balanc', 'ball', 'ballet', 'baltasarkormákur', 'balthazar', 'band', 'bandit', 'bangkok', 'banish', 'bank', 'banker', 'bankrobberi', 'bar', 'bargain', 'barn', 'barney', 'baron', 'barri', 'barrysonnenfeld', 'base', 'basebal', 'basedonchildren', 'basedoncomicbook', 'basedonfairytal', 'basedongraphicnovel', 'basedonnovel', 'basedonplay', 'basedonstagemus', 'basedontrueev', 'basedontruestori', 'basedontvseri', 'basedonvideogam', 'basedonyoungadultnovel', 'basement', 'basketbal', 'bathhous', 'bathtub', 'batman', 'battl', 'battlefield', 'bay', 'beach', 'bear', 'beard', 'beast', 'beat', 'beauti', 'beautifulwoman', 'becca', 'becki', 'becominganadult', 'bed', 'bee', 'beer', 'befriend', 'began', 'begin', 'behavior', 'be', 'belief', 'believ', 'bella', 'belov', 'ben', 'benaffleck', 'bend', 'beneath', 'benfost', 'beniciodeltoro', 'benjamin', 'benkingsley', 'bennet', 'bennett', 'benstil', 'bent', 'benwhishaw', 'berlin', 'berti', 'best', 'bestfriend', 'bestfriendsinlov', 'beth', 'bethani', 'betray', 'better', 'beverli', 'bfg', 'bibl', 'bid', 'big', 'biggest', 'bike', 'biker', 'bikini', 'bilbo', 'billhad', 'billionair', 'billnighi', 'billpaxton', 'billpullman', 'billi', 'billybobthornton', 'billyburk', 'billyconnolli', 'bio', 'biographi', 'bird', 'birth', 'birthday', 'bishop', 'bit', 'bite', 'bitten', 'bittersweet', 'bizarr', 'black', 'blackandwhit', 'blackmag', 'blackmail', 'blackpeopl', 'blacksmith', 'blade', 'blakel', 'blame', 'blart', 'blast', 'blind', 'blizzard', 'block', 'blofeld', 'blog', 'blood', 'bloodsplatt', 'bloodthirsti', 'bloodi', 'blow', 'blown', 'blu', 'blue', 'blunt', 'board', 'boardingschool', 'boat', 'boatchas', 'bob', 'bobbi', 'bobbyfarrelli', 'bodi', 'bodyguard', 'bodyhorror', 'bold', 'bollywood', 'bolt', 'bomb', 'bond', 'bondag', 'boo', 'book', 'boomer', 'boov', 'booz', 'border', 'bore', 'borg', 'born', 'boss', 'boston', 'bound', 'boundari', 'bounti', 'bountyhunt', 'bourn', 'bowandarrow', 'bowl', 'box', 'boxer', 'boy', 'boyd', 'boyfriend', 'boyl', 'bradbird', 'bradfurman', 'bradleycoop', 'bradpeyton', 'bradpitt', 'brain', 'brand', 'brandon', 'brave', 'braveri', 'brazilian', 'break', 'breakingthefourthwal', 'breakthrough', 'breast', 'breath', 'brendan', 'brendanfras', 'brendangleeson', 'brent', 'brian', 'briancox', 'brianrobbin', 'briantaylor', 'bride', 'bridesmaid', 'bridg', 'brielarson', 'brien', 'brilliant', 'bring', 'brink', 'britain', 'british', 'britishsecretservic', 'britt', 'brock', 'broke', 'broken', 'brokenheart', 'brooklyn', 'brooklynnewyorkc', 'broom', 'brothel', 'brother', 'brotherbrotherrelationship', 'brothersisterrelationship', 'brought', 'brown', 'bruce', 'brucewilli', 'brutal', 'bryan', 'bryancranston', 'bryansing', 'bryce', 'brycedallashoward', 'buddi', 'buddycomedi', 'budget', 'build', 'bullet', 'bulli', 'bunker', 'bunni', 'burglar', 'buri', 'burk', 'burlesqu', 'bush', 'busi', 'businessman', 'businesswoman', 'butcher', 'butler', 'button', 'buy', 'cabin', 'cage', 'cairo', 'cal', 'caleb', 'california', 'call', 'calvin', 'cambridg', 'camcord', 'came', 'camera', 'cameraman', 'camerondiaz', 'camgigandet', 'camp', 'campaign', 'campu', 'canada', 'canadian', 'cancer', 'candl', 'candlelightvigil', 'candi', 'canin', 'cannabi', 'canon', 'cao', 'capabl', 'capit', 'captain', 'captiv', 'captur', 'car', 'caraccid', 'carchas', 'carcrash', 'card', 'cardgam', 'care', 'career', 'carefre', 'caretak', 'carexplos', 'careymulligan', 'caribbean', 'carjourney', 'carl', 'carlagugino', 'carlossaldanha', 'carlton', 'carniv', 'carolina', 'carpet', 'carrac', 'carri', 'carriefish', 'carsetonfir', 'carter', 'cartoon', 'case', 'caseyaffleck', 'cash', 'casino', 'cast', 'castl', 'cat', 'cataclysm', 'catacomb', 'catandmous', 'catastroph', 'catch', 'cateblanchett', 'catherinehardwick', 'catherinekeen', 'catherinezeta', 'cathol', 'catholic', 'caught', 'caus', 'cavalri', 'cave', 'cavemen', 'celebr', 'cell', 'cello', 'cellphon', 'cemeteri', 'center', 'central', 'centuri', 'ceo', 'ceremoni', 'certain', 'cesar', 'cgi', 'chadmichaelmurray', 'chain', 'challeng', 'champion', 'championship', 'chanc', 'chaney', 'chang', 'changingthepastorfutur', 'channingtatum', 'chao', 'chaotic', 'chappi', 'chapter', 'charact', 'charg', 'charismat', 'charl', 'charlesferguson', 'charli', 'charlieday', 'charlizetheron', 'charm', 'chase', 'chasesandrac', 'cheat', 'check', 'chef', 'chemic', 'chicago', 'chicken', 'chief', 'child', 'childabus', 'childhero', 'childhood', 'childhoodmemori', 'childprodigi', 'children', 'chimp', 'china', 'chines', 'chipett', 'chipmunk', 'chiwetelejiofor', 'chloëgracemoretz', 'choic', 'choos', 'chosen', 'chosenon', 'chri', 'chriscolumbu', 'chriscoop', 'chrisevan', 'chrishemsworth', 'chrispin', 'chrispratt', 'chrisrenaud', 'christ', 'christian', 'christianbal', 'christinaappleg', 'christinaricci', 'christin', 'christma', 'christmasparti', 'christoph', 'christopherlloyd', 'christophermil', 'christophernolan', 'christopherplumm', 'christopherwalken', 'christophwaltz', 'chrisweitz', 'chronicl', 'chu', 'church', 'churchservic', 'cia', 'ciaagent', 'ciaránhind', 'cigarettesmok', 'cillianmurphi', 'cinderella', 'cindi', 'cinema', 'circumst', 'circu', 'citi', 'citizen', 'civil', 'claim', 'clair', 'clan', 'clari', 'class', 'classdiffer', 'classic', 'classicalmus', 'classmat', 'classroom', 'clean', 'clerk', 'client', 'climat', 'climatechang', 'climb', 'clinteastwood', 'cliqu', 'cliveowen', 'clock', 'clone', 'clooney', 'close', 'closer', 'club', 'clue', 'clueless', 'clutch', 'coach', 'coast', 'cocain', 'cockburn', 'code', 'coffin', 'cohen', 'cold', 'coldwar', 'colinfarrel', 'collaps', 'collector', 'colleg', 'collid', 'collin', 'collis', 'colombia', 'coloni', 'coma', 'combat', 'combin', 'come', 'comeback', 'comedian', 'comedi', 'comfort', 'comic', 'comingofag', 'comingout', 'command', 'commit', 'common', 'commun', 'companion', 'compani', 'compet', 'competit', 'complet', 'complex', 'complic', 'compound', 'comput', 'concert', 'condit', 'confid', 'conflict', 'confront', 'conman', 'connect', 'connel', 'connor', 'conquer', 'consequ', 'consid', 'conspiraci', 'conspiracyofmurd', 'constantli', 'contact', 'contain', 'contend', 'contest', 'contin', 'continu', 'contract', 'control', 'controversi', 'converg', 'convict', 'convinc', 'cook', 'cop', 'cope', 'core', 'corleon', 'corner', 'corpor', 'corps', 'corrupt', 'cost', 'costasmandylor', 'costum', 'count', 'countdown', 'counter', 'countless', 'countri', 'countryhous', 'countrysid', 'counti', 'coup', 'coupd', 'coupl', 'courag', 'cours', 'court', 'cousin', 'coven', 'cover', 'covert', 'cowardli', 'cowboy', 'cox', 'crack', 'craig', 'craiggillespi', 'crash', 'crazi', 'creat', 'creatur', 'crew', 'crime', 'crimefight', 'crimin', 'crisi', 'cross', 'cruel', 'cruelti', 'cruis', 'crush', 'cri', 'cullen', 'cult', 'cultfilm', 'cultur', 'cultureclash', 'cup', 'cure', 'current', 'curs', 'custodi', 'cut', 'cyberpunk', 'cyborg', 'dad', 'daili', 'damag', 'dan', 'danc', 'dancer', 'danger', 'danielcraig', 'danielradcliff', 'danni', 'dannyboyl', 'dannymcbrid', 'dare', 'dark', 'darkcomedi', 'darker', 'darkest', 'darkfantasi', 'darkpast', 'darrenaronofski', 'darryl', 'darth', 'dash', 'date', 'daughter', 'dave', 'david', 'davidbow', 'davidcronenberg', 'davidcross', 'davidfinch', 'davidgordongreen', 'davidhand', 'dawn', 'day', 'dc', 'dccomic', 'dead', 'deadli', 'deal', 'dealer', 'dean', 'death', 'deathofafriend', 'deathstar', 'debt', 'decad', 'deceit', 'decepticon', 'decept', 'decid', 'decis', 'deep', 'deepli', 'defeat', 'defend', 'defens', 'defi', 'deliv', 'deliveri', 'delorean', 'delus', 'demand', 'democraci', 'demon', 'demonicpossess', 'deni', 'denisleari', 'dennisdugan', 'dennisquaid', 'denni', 'dent', 'dentist', 'denzelwashington', 'depart', 'deport', 'depress', 'derek', 'dermotmulroney', 'descend', 'deschanel', 'desert', 'design', 'desir', 'despair', 'desper', 'despit', 'destin', 'destini', 'destroy', 'destruct', 'detail', 'detect', 'detent', 'determin', 'detroit', 'develop', 'devic', 'devil', 'devot', 'dewey', 'diabol', 'dialogu', 'diamond', 'dian', 'dianekeaton', 'dianekrug', 'dianelan', 'diari', 'dick', 'dictat', 'did', 'didn', 'die', 'diego', 'differ', 'difficult', 'dilemma', 'dilling', 'diner', 'dinner', 'dinosaur', 'dire', 'direct', 'director', 'dirti', 'dirtycop', 'disappear', 'disast', 'discov', 'discoveri', 'diseas', 'disgrac', 'disguis', 'dishonesti', 'disillus', 'disord', 'dispatch', 'distanc', 'distant', 'district', 'distrust', 'disturb', 'ditch', 'diverg', 'divid', 'divorc', 'dna', 'doc', 'doctor', 'document', 'documentari', 'doe', 'doesn', 'dog', 'do', 'doll', 'dollar', 'dolphin', 'dolphlundgren', 'domest', 'domhnallgleeson', 'domin', 'dominatrix', 'dominicwest', 'don', 'donaldsutherland', 'doncheadl', 'donkey', 'donnel', 'doom', 'doomsday', 'door', 'doorstep', 'dormant', 'dorothi', 'doubl', 'doublelif', 'doubt', 'doug', 'dougliman', 'downsiz', 'dr', 'dracula', 'drag', 'dragon', 'drama', 'dramat', 'draw', 'drawn', 'dream', 'drewbarrymor', 'drifter', 'drink', 'drive', 'driven', 'driver', 'drop', 'drug', 'drugaddict', 'drugdeal', 'druglord', 'drugsmuggl', 'drugtraff', 'drugus', 'drummer', 'drunk', 'drunken', 'du', 'dualident', 'dub', 'dublin', 'dude', 'duel', 'duke', 'dump', 'duncanjon', 'duo', 'duringcreditssting', 'dustinhoffman', 'duti', 'dwarv', 'dwaynejohnson', 'dyinganddeath', 'dylan', 'dynasti', 'dysfunct', 'dysfunctionalfamili', 'dystopia', 'dystopicfutur', 'eager', 'earlier', 'earli', 'earn', 'earth', 'earthquak', 'east', 'eastern', 'eastindiatradingcompani', 'easi', 'eat', 'eccentr', 'econom', 'economi', 'ed', 'eddi', 'eddiemurphi', 'edg', 'edharri', 'edhelm', 'editor', 'educ', 'edward', 'edwardnorton', 'effort', 'egg', 'ego', 'egypt', 'egyptian', 'elabor', 'elderli', 'elect', 'eleg', 'element', 'elev', 'eliaskotea', 'elijahwood', 'elimin', 'elit', 'elizabeth', 'elizabethbank', 'ella', 'ellefan', 'ellenburstyn', 'ellenpag', 'elliot', 'elliott', 'elli', 'elsa', 'elus', 'elv', 'embark', 'ember', 'embroil', 'emerald', 'emerg', 'emilehirsch', 'emili', 'emilyblunt', 'emilybrown', 'emilywatson', 'emma', 'emmarobert', 'emmaston', 'emmawatson', 'emot', 'emperor', 'empir', 'employe', 'employ', 'enchant', 'encount', 'end', 'endoftheworld', 'enemi', 'energi', 'enforc', 'engag', 'engin', 'england', 'english', 'enigmat', 'enlist', 'enorm', 'ensemblecast', 'ensu', 'entei', 'enter', 'entir', 'entiti', 'entrepreneur', 'environ', 'environment', 'envis', 'epic', 'epidem', 'episod', 'equal', 'era', 'eric', 'ericbana', 'erin', 'erotic', 'escapad', 'escap', 'escapefromprison', 'escort', 'especi', 'espionag', 'establish', 'estat', 'esther', 'estrang', 'etat', 'etern', 'ethan', 'ethanhawk', 'europ', 'evacu', 'evagreen', 'evalongoria', 'evamend', 'evanrachelwood', 'eve', 'even', 'event', 'eventu', 'everybodi', 'everyday', 'evid', 'evil', 'evilcorpor', 'evilwitch', 'evolut', 'evolv', 'ewanmcgregor', 'ex', 'exact', 'exactli', 'exam', 'examin', 'exchang', 'excit', 'excus', 'execut', 'exercis', 'exist', 'existenti', 'exorc', 'exot', 'exoticisland', 'expect', 'expedit', 'expend', 'experi', 'experienc', 'expert', 'expertis', 'explain', 'explod', 'explodingbuild', 'explor', 'explos', 'expos', 'extinct', 'extra', 'extramaritalaffair', 'extraordinari', 'extraterrestrialtechnolog', 'extravag', 'extrem', 'extremeviol', 'eye', 'fabl', 'face', 'facil', 'fact', 'faction', 'factori', 'fade', 'fail', 'fairi', 'fairytal', 'faith', 'fake', 'falcon', 'fall', 'fallen', 'fallinginlov', 'falseident', 'fals', 'falselyaccus', 'fame', 'famili', 'familyrelationship', 'famou', 'fangvamp', 'fan', 'fantast', 'fantasi', 'fantasyworld', 'far', 'farewel', 'farm', 'farmer', 'farmhous', 'fascism', 'fascist', 'fashion', 'fast', 'faster', 'fat', 'fatal', 'fate', 'father', 'fatherdaughterrelationship', 'fathersonrelationship', 'favorit', 'fbi', 'fbiagent', 'fear', 'fearsom', 'featur', 'feel', 'feet', 'feisti', 'felix', 'fellow', 'fellowship', 'femal', 'femalecorps', 'femalefriendship', 'femalenud', 'femaleprotagonist', 'femalevampir', 'femmefatal', 'fergu', 'ferri', 'festiv', 'feud', 'fi', 'fiance', 'fiancé', 'fiction', 'fictionalgovernmentag', 'fido', 'field', 'fierc', 'fifth', 'fight', 'fighter', 'figur', 'fill', 'film', 'filmmak', 'filmproduc', 'final', 'financi', 'financialcrisi', 'find', 'fine', 'fingerprint', 'finish', 'finn', 'fiona', 'firearm', 'fire', 'firemen', 'firework', 'firm', 'firstlov', 'firsttim', 'fish', 'fisherman', 'fishoutofwat', 'fistfight', 'fit', 'fitz', 'fitzgerald', 'fix', 'fixer', 'flame', 'flashback', 'flat', 'fledgl', 'flee', 'flesh', 'flight', 'fling', 'flint', 'flood', 'floor', 'florida', 'florist', 'flower', 'flowershop', 'fli', 'flyingsauc', 'flynn', 'focu', 'focus', 'fog', 'follow', 'food', 'foot', 'footag', 'footbal', 'footchas', 'footstep', 'forbiddenlov', 'forc', 'ford', 'foreign', 'forest', 'forestwhitak', 'forev', 'forgiv', 'form', 'formid', 'fort', 'fortun', 'fortunetel', 'foster', 'fought', 'foundfootag', 'fountain', 'fourteen', 'fourth', 'fox', 'frame', 'franc', 'francisco', 'francisfordcoppola', 'francislawr', 'frank', 'frankenstein', 'frankmil', 'frantic', 'fratern', 'fraud', 'freak', 'fred', 'freddiehighmor', 'free', 'freedom', 'freelov', 'french', 'frequent', 'fresh', 'freshman', 'friend', 'friendli', 'friendship', 'frighten', 'frodo', 'frog', 'frustrat', 'fu', 'fuel', 'fugit', 'fulfil', 'fulli', 'fun', 'funer', 'furiou', 'futur', 'futurist', 'gabrielbyrn', 'gabrielmacht', 'gadget', 'gaelgarcíabern', 'gain', 'galact', 'galaxi', 'gale', 'gal', 'gambl', 'game', 'gandalf', 'gandhi', 'gang', 'gangster', 'gangwar', 'garag', 'garden', 'gargamel', 'garrett', 'garretthedlund', 'gari', 'garygray', 'garyoldman', 'garyross', 'gasstat', 'gather', 'gavinhood', 'gay', 'gemmaarterton', 'gener', 'genet', 'geneticengin', 'geniu', 'genocid', 'gentl', 'geoffreyrush', 'georg', 'georgeclooney', 'georgeluca', 'georgemil', 'gerardbutl', 'german', 'germani', 'getaway', 'get', 'ghetto', 'ghost', 'ghostworld', 'giant', 'giantmonst', 'giantrobot', 'gibson', 'gift', 'gigli', 'gilbert', 'girl', 'girlfriend', 'gisel', 'given', 'give', 'glennclos', 'global', 'globe', 'glori', 'goal', 'god', 'godmoth', 'goe', 'go', 'gold', 'golden', 'goliath', 'gone', 'gongli', 'good', 'goodvsevil', 'gordon', 'gore', 'goreverbinski', 'gorgeou', 'got', 'gotham', 'gothamc', 'gotten', 'govern', 'governor', 'grace', 'grade', 'gradual', 'graduat', 'grand', 'grandfath', 'grandfathergrandsonrelationship', 'grandpar', 'graphic', 'grave', 'great', 'greatbritain', 'greater', 'greatest', 'greatwhiteshark', 'greec', 'greedi', 'greek', 'green', 'greg', 'gregkinnear', 'gregmottola', 'gretel', 'grew', 'grief', 'griev', 'grim', 'grinch', 'grip', 'gritti', 'grizzli', 'groceri', 'ground', 'group', 'groupoffriend', 'grow', 'grown', 'gruesom', 'guard', 'guardian', 'guerrilla', 'guest', 'guid', 'guillermodeltoro', 'guilt', 'guilti', 'guitar', 'gun', 'gunfight', 'guninmouth', 'gunsling', 'gunviol', 'guru', 'gusvans', 'guy', 'guyhamilton', 'guypearc', 'guyritchi', 'gwynethpaltrow', 'gym', 'hacker', 'hack', 'hade', 'hair', 'hairstylist', 'half', 'halfway', 'hall', 'halleberri', 'halloween', 'hallucin', 'han', 'hand', 'handsom', 'handtohandcombat', 'hang', 'hangov', 'hankazaria', 'hannah', 'hansel', 'hapless', 'happen', 'happili', 'happi', 'harbor', 'hard', 'harlem', 'harmoni', 'har', 'harold', 'harrisonford', 'harri', 'harsh', 'harvard', 'harvardunivers', 'harvey', 'harveykeitel', 'hatch', 'hate', 'hatr', 'haunt', 'hauntedhous', 'haven', 'have', 'havoc', 'hawaii', 'hayden', 'haydenchristensen', 'haydenpanettier', 'head', 'headlin', 'headquart', 'heal', 'health', 'hear', 'heart', 'heartattack', 'heartbreak', 'heartbroken', 'heathledg', 'heaven', 'heavyweight', 'heel', 'heir', 'heiress', 'heirtothethron', 'heist', 'held', 'helen', 'helenabonhamcart', 'helenmirren', 'helicopt', 'hell', 'help', 'henchmen', 'hendrick', 'henri', 'hero', 'heroic', 'heroin', 'heroism', 'hester', 'hidden', 'hide', 'hidingplac', 'high', 'highest', 'highli', 'highschool', 'highschoolstud', 'highway', 'hijack', 'hilaryduff', 'hilaryswank', 'hill', 'himalaya', 'hip', 'hippi', 'hire', 'histor', 'historicalfigur', 'histori', 'hit', 'hitchhik', 'hitler', 'hitman', 'ho', 'hobbit', 'hoffman', 'hogwart', 'hold', 'hole', 'holiday', 'hollow', 'hollywood', 'holm', 'holi', 'holygrail', 'home', 'homeinvas', 'homeland', 'homeless', 'hometown', 'homicid', 'homosexu', 'honest', 'honesti', 'honey', 'honeymoon', 'hong', 'hongkong', 'honor', 'hood', 'hook', 'hoover', 'hop', 'hope', 'horribl', 'horrif', 'horrifi', 'horror', 'horrorspoof', 'hors', 'horsebackrid', 'horserac', 'hospit', 'host', 'hostag', 'hostil', 'hot', 'hotel', 'hotelroom', 'hour', 'hous', 'housewif', 'howard', 'huge', 'hughdanc', 'hughgrant', 'hughjackman', 'hugo', 'human', 'humankind', 'humili', 'humor', 'humphrey', 'hunger', 'hungri', 'hunt', 'hunter', 'huntsman', 'hurrican', 'husband', 'hustler', 'hybrid', 'hyena', 'hyster', 'hyun', 'ianmckellen', 'ianmcshan', 'ice', 'iceag', 'iceberg', 'icecub', 'icon', 'idea', 'ident', 'idol', 'idriselba', 'idyl', 'ignor', 'ii', 'iii', 'il', 'ill', 'illeg', 'illegalimmigr', 'illus', 'imag', 'imagin', 'imaginari', 'imax', 'imf', 'immedi', 'immers', 'immigr', 'immigrationlaw', 'immort', 'impact', 'impend', 'imperi', 'import', 'imposs', 'impression', 'imprison', 'inadvert', 'incid', 'includ', 'increasingli', 'incred', 'independ', 'independentfilm', 'india', 'indian', 'indiana', 'indianajon', 'indianlead', 'individu', 'industri', 'indi', 'inexperienc', 'inexplic', 'infant', 'infect', 'infidel', 'infiltr', 'influenc', 'inform', 'inhabit', 'initi', 'injur', 'injuri', 'injustic', 'inner', 'innoc', 'insan', 'insid', 'insight', 'insist', 'insomnia', 'inspir', 'instal', 'instant', 'instantli', 'instead', 'institut', 'institution', 'insult', 'insur', 'insurg', 'intellig', 'intend', 'intens', 'intent', 'interest', 'intergalact', 'intern', 'internet', 'interpol', 'interrog', 'interspeciesrom', 'intertwin', 'interview', 'intim', 'intrepid', 'intrigu', 'invad', 'invas', 'invent', 'inventor', 'investig', 'invest', 'invit', 'involv', 'ira', 'iraq', 'iraqwar', 'ireland', 'iren', 'irish', 'irishman', 'iron', 'irrfankhan', 'island', 'isn', 'isol', 'israel', 'isra', 'issu', 'istanbul', 'italian', 'itali', 'jack', 'jackblack', 'jacki', 'jackiechan', 'jacknicholson', 'jackson', 'jacob', 'jail', 'jake', 'jakegyllenha', 'jamaica', 'jame', 'jamesfranco', 'jamesmangold', 'jamesmarsden', 'jamesmcavoy', 'jameswan', 'jami', 'jamiefoxx', 'jane', 'janeiro', 'japan', 'japanes', 'jason', 'jasonbateman', 'jasonclark', 'jasonle', 'jasonsegel', 'jasonstatham', 'jasonsudeiki', 'jaumebalagueró', 'javierbardem', 'jay', 'jaybaruchel', 'jealou', 'jealousi', 'jean', 'jedi', 'jeffbridg', 'jeffgoldblum', 'jeffrey', 'jennif', 'jenniferaniston', 'jennifergarn', 'jenniferlawr', 'jenniferlopez', 'jeremyiron', 'jeremyrenn', 'jersey', 'jess', 'jesseeisenberg', 'jessicaalba', 'jessicachastain', 'jewish', 'jigsaw', 'jill', 'jim', 'jimbroadb', 'jimcarrey', 'jimmi', 'jimsturgess', 'joancusack', 'job', 'jock', 'jodiefost', 'joe', 'joel', 'joeledgerton', 'joey', 'john', 'johnc', 'johncarpent', 'johncusack', 'johnglen', 'johngoodman', 'johnkrasinski', 'johnlasset', 'johnleguizamo', 'johnmalkovich', 'johnni', 'johnnydepp', 'johnson', 'johntravolta', 'join', 'jon', 'jonahhil', 'jonathanliebesman', 'jonathanrhysmey', 'jone', 'jonfavreau', 'jonm', 'jonvoight', 'jordan', 'joseph', 'josephgordon', 'josh', 'joshbrolin', 'joshhutcherson', 'journal', 'journalist', 'journey', 'joy', 'jr', 'juddapatow', 'jude', 'judelaw', 'judg', 'judidench', 'juliannemoor', 'juliarobert', 'juliet', 'juli', 'jungl', 'just', 'justic', 'justinlong', 'justintimberlak', 'kaiju', 'kansa', 'karlurban', 'kate', 'katebeckinsal', 'katebosworth', 'katehudson', 'katewinslet', 'katherineheigl', 'kati', 'katieholm', 'katniss', 'kay', 'keanureev', 'keep', 'keiraknightley', 'kelli', 'ken', 'kevin', 'kevinhart', 'kevinjam', 'kevinklin', 'kevinsmith', 'kevinspacey', 'key', 'kgb', 'kid', 'kidnap', 'kidsandfamili', 'kill', 'killer', 'killerrobot', 'kim', 'kimbasing', 'kimberlypeirc', 'kind', 'king', 'kingdom', 'kingpin', 'kipp', 'kirstendunst', 'kiss', 'kit', 'kitchen', 'knew', 'knife', 'knight', 'knit', 'know', 'knowledg', 'known', 'kodismit', 'kong', 'kowalski', 'kriskristofferson', 'kristenbel', 'kristenstewart', 'kristenwiig', 'kristindavi', 'kumar', 'kung', 'kungfu', 'kurtrussel', 'kyle', 'la', 'laboratori', 'labyrinth', 'lack', 'laid', 'lake', 'lanawachowski', 'land', 'landscap', 'lane', 'langleyvirginia', 'lapd', 'larg', 'largest', 'larri', 'larrycharl', 'lar', 'lasergun', 'laser', 'lasvega', 'late', 'later', 'latest', 'launch', 'laurencefishburn', 'laurengraham', 'law', 'lawsuit', 'lawyer', 'lazi', 'le', 'lead', 'leader', 'leaf', 'leagu', 'learn', 'leathompson', 'leav', 'led', 'lee', 'left', 'legaci', 'legal', 'legend', 'legendari', 'lego', 'leia', 'lenaheadey', 'length', 'leo', 'leon', 'leonard', 'leonardodicaprio', 'lesbian', 'lesliemann', 'lesson', 'let', 'lethal', 'lethalviru', 'letter', 'level', 'levitt', 'lewi', 'lewisgilbert', 'lgbt', 'liaison', 'liamhemsworth', 'liamneeson', 'liar', 'liber', 'liberationofprison', 'librari', 'lie', 'life', 'lifeanddeath', 'lifelong', 'lifestyl', 'lifetim', 'lift', 'light', 'lightn', 'like', 'lilith', 'lillywachowski', 'lili', 'lilyjam', 'limit', 'lincoln', 'linda', 'line', 'link', 'lion', 'list', 'literari', 'literatur', 'littl', 'littleboy', 'littlegirl', 'littleredridinghood', 'live', 'liveactionandanim', 'liz', 'lizzycaplan', 'll', 'loan', 'local', 'locat', 'lock', 'loganlerman', 'lola', 'london', 'londonengland', 'lone', 'loneli', 'loner', 'lonewolf', 'long', 'longer', 'longtim', 'look', 'loop', 'loos', 'lord', 'lordship', 'lorrain', 'lo', 'losangel', 'lose', 'loser', 'loss', 'lossofbroth', 'lossofchild', 'lossofdaught', 'lossoffamili', 'lossoffath', 'lossoffriend', 'lossofjob', 'lossoflov', 'lossofmoth', 'lossofson', 'lost', 'lot', 'lou', 'loui', 'louisiana', 'loung', 'louvr', 'love', 'loveandrom', 'loveatfirstsight', 'loveofon', 'lover', 'lovesick', 'lovetriangl', 'low', 'loyal', 'loyalti', 'lsd', 'luca', 'luce', 'luck', 'lucki', 'luci', 'luke', 'lukewilson', 'lure', 'lurk', 'lust', 'luxuri', 'ma', 'mac', 'machin', 'machinegun', 'mad', 'madison', 'madrid', 'mafia', 'magazin', 'maggi', 'maggiegrac', 'magic', 'magician', 'maid', 'main', 'maintain', 'major', 'make', 'maker', 'male', 'malefemalerelationship', 'malefic', 'malefriendship', 'malenud', 'malibu', 'malici', 'malinåkerman', 'mallori', 'mammoth', 'man', 'manag', 'mandela', 'mandi', 'mandymoor', 'manhattan', 'manipul', 'mankind', 'manner', 'manni', 'mansion', 'manufactur', 'marcforst', 'marcu', 'marcwebb', 'margotrobbi', 'marijuana', 'marin', 'marisatomei', 'mark', 'markduplass', 'market', 'markhamil', 'markneveldin', 'markruffalo', 'markstrong', 'markwahlberg', 'marlonwayan', 'maroon', 'marriag', 'marriagecrisi', 'marriagepropos', 'marri', 'marriedcoupl', 'mar', 'marshal', 'martha', 'martial', 'martialart', 'martin', 'martincampbel', 'martinfreeman', 'martinlawr', 'martinscorses', 'marti', 'marvelcinematicunivers', 'marvelcom', 'mari', 'maryland', 'marymccormack', 'marysteenburgen', 'mask', 'maskedvigilant', 'mass', 'massachusett', 'massacr', 'massiv', 'massmurd', 'master', 'mastermind', 'masturb', 'match', 'mater', 'mate', 'mathematician', 'mathemat', 'mathieukassovitz', 'matt', 'mattdamon', 'mattdillon', 'matteroflifeanddeath', 'matter', 'matthewbroderick', 'matthewgood', 'matthewmcconaughey', 'mattreev', 'matur', 'maverick', 'max', 'mayb', 'mayhem', 'mayor', 'maze', 'mcphee', 'mcqueen', 'meagangood', 'mean', 'mechan', 'medallion', 'media', 'medic', 'medicin', 'meet', 'mega', 'megan', 'meganfox', 'melgibson', 'melissamccarthi', 'melvin', 'member', 'memori', 'memoryloss', 'men', 'mental', 'mentalil', 'mentalinstitut', 'mentor', 'mercenari', 'mere', 'mermaid', 'merylstreep', 'mess', 'messag', 'met', 'metal', 'meteor', 'metro', 'mexican', 'mexico', 'mi6', 'mia', 'miami', 'miawasikowska', 'mib', 'michael', 'michaelangarano', 'michaelb', 'michaelbay', 'michaelcain', 'michaelcera', 'michaeldougla', 'michaelfassbend', 'michaelj', 'michaelkeaton', 'michaelmoor', 'michaelshannon', 'michaelwinterbottom', 'michel', 'michellemonaghan', 'michellepfeiff', 'michellerodriguez', 'michigan', 'mickeyrourk', 'microchip', 'middl', 'middleeast', 'midlifecrisi', 'midnight', 'midst', 'midwest', 'mighti', 'miguelarteta', 'mikaelhåfström', 'mike', 'mikemitchel', 'mikemy', 'mikenewel', 'milakuni', 'mild', 'mile', 'milestel', 'miley', 'mileycyru', 'militari', 'militia', 'millajovovich', 'miller', 'million', 'millionair', 'mill', 'milo', 'mind', 'mindandsoul', 'mindcontrol', 'miner', 'mine', 'minion', 'minist', 'minnesota', 'minor', 'minut', 'miracl', 'miracul', 'miranda', 'mischief', 'mischiev', 'miser', 'misfit', 'misguid', 'mismatch', 'miss', 'missil', 'missingperson', 'mission', 'missionari', 'missionofmurd', 'mississippi', 'mistaken', 'mistress', 'misti', 'mit', 'mitch', 'mitchel', 'mob', 'mobilephon', 'mobster', 'mockumentari', 'model', 'modern', 'mole', 'molli', 'mom', 'moment', 'monasteri', 'money', 'monk', 'monkey', 'monster', 'montana', 'montgomeri', 'month', 'monument', 'moon', 'moonlight', 'moor', 'moral', 'morganfreeman', 'morganspurlock', 'mormon', 'morn', 'mortal', 'moscow', 'mose', 'mossad', 'motel', 'mother', 'motherdaughterrelationship', 'motherlylov', 'motherrol', 'mothersonrelationship', 'motion', 'motiv', 'motor', 'motorcycl', 'mountain', 'mous', 'mouth', 'move', 'movement', 'movi', 'movieinmovi', 'moviestar', 'mr', 'mule', 'multi', 'multiplestorylin', 'mumblecor', 'mumblegor', 'murder', 'murphi', 'museum', 'music', 'musicband', 'musician', 'musicinstru', 'muslim', 'mutant', 'mutat', 'mysteri', 'mystic', 'mythic', 'mérida', 'naiv', 'nam', 'name', 'nancymey', 'nanni', 'naomiwatt', 'narrat', 'nasa', 'natali', 'natalieportman', 'nation', 'nativ', 'nativeamerican', 'natur', 'navig', 'navi', 'navys', 'nazi', 'near', 'nearbi', 'nearfutur', 'nearli', 'ned', 'need', 'neighbor', 'neighborhood', 'neilpatrickharri', 'nemesi', 'neo', 'nephew', 'nerdi', 'netherland', 'network', 'nevada', 'nevil', 'new', 'newident', 'newjersey', 'newlov', 'newli', 'newmexico', 'news', 'newspap', 'newton', 'newyear', 'newyork', 'newyorkc', 'nice', 'nicholashoult', 'nicholasstol', 'nick', 'nickfrost', 'nicknolt', 'nicki', 'nicolascag', 'nicolaswindingrefn', 'nicolekidman', 'niec', 'night', 'nightclub', 'nightmar', 'nightshyamalan', 'nightstand', 'ninja', 'noir', 'non', 'normal', 'norman', 'north', 'notori', 'novel', 'novelist', 'nuclear', 'nuditi', 'number', 'numberintitl', 'nurs', 'nypd', 'obama', 'object', 'oblivion', 'obsess', 'obstacl', 'occup', 'occupi', 'occurr', 'ocean', 'octob', 'odd', 'odin', 'offer', 'offic', 'offici', 'offspr', 'ogr', 'oil', 'old', 'older', 'oldermanyoungerwomanrelationship', 'oldman', 'olgakurylenko', 'oliviawild', 'omnicorp', 'onlin', 'ontherun', 'open', 'oper', 'opportun', 'oppos', 'oppositesattract', 'orchestra', 'orc', 'order', 'ordinari', 'oregon', 'organ', 'organizedcrim', 'origin', 'orlandobloom', 'orlean', 'orphan', 'orphanag', 'oscar', 'oscaraward', 'oscarisaac', 'outbreak', 'outcast', 'outer', 'outlaw', 'outsid', 'overcom', 'overrun', 'overwhelm', 'owen', 'owenwilson', 'owl', 'own', 'owner', 'oxford', 'oz', 'pack', 'packag', 'paid', 'pain', 'paint', 'pair', 'pal', 'panda', 'panic', 'paradis', 'parallel', 'paranoia', 'paranorm', 'parent', 'parentchildrelationship', 'parentskidsrelationship', 'pari', 'park', 'parker', 'parodi', 'parol', 'parrish', 'particip', 'particular', 'particularli', 'parti', 'partner', 'partnership', 'pass', 'passag', 'passeng', 'passion', 'passport', 'past', 'pastor', 'path', 'patient', 'patriarch', 'patriciaclarkson', 'patrick', 'patrickstewart', 'patrickwilson', 'patriot', 'paul', 'paulapatton', 'paulbettani', 'pauldano', 'paulgiamatti', 'paulgreengrass', 'paulhaggi', 'paulrudd', 'paulschneid', 'paulw', 'paulwalk', 'pay', 'peac', 'pedophil', 'penguin', 'penn', 'pennsylvania', 'penni', 'pentagram', 'penélopecruz', 'peopl', 'perci', 'perfect', 'perform', 'peril', 'perioddrama', 'perman', 'perseu', 'persia', 'persian', 'person', 'pet', 'pete', 'peter', 'peterberg', 'peterfarrelli', 'peterjackson', 'petersarsgaard', 'petit', 'petti', 'peytonre', 'phantom', 'phil', 'philipp', 'philipseymourhoffman', 'phillord', 'philosophi', 'phone', 'photo', 'photograph', 'photographi', 'physic', 'pianist', 'piano', 'pickpocket', 'pick', 'pictur', 'piec', 'piercebrosnan', 'pierrecoffin', 'pig', 'pilot', 'pimp', 'pink', 'pinpoint', 'pirat', 'pistol', 'pit', 'place', 'plagu', 'plan', 'plane', 'planet', 'plannedmurd', 'plantat', 'plasticsurgeri', 'play', 'playboy', 'player', 'playground', 'pleasur', 'plot', 'plottwist', 'plung', 'po', 'poet', 'poetri', 'point', 'poison', 'poker', 'polic', 'policebrut', 'policechas', 'policeman', 'policeoffic', 'polit', 'politician', 'pollut', 'polli', 'poor', 'pop', 'pope', 'popstar', 'popular', 'popul', 'pornographi', 'port', 'portal', 'portrait', 'poseidon', 'pose', 'posit', 'possess', 'possibl', 'post', 'pot', 'potenti', 'poverti', 'power', 'powerless', 'poweroutag', 'powerrel', 'prayer', 'pre', 'preciou', 'predat', 'pregnanc', 'pregnancyandbirth', 'pregnant', 'prehistor', 'prejudic', 'premonit', 'prepar', 'presenc', 'present', 'presid', 'presidenti', 'press', 'pressconfer', 'pressur', 'pretti', 'prevail', 'prevent', 'previou', 'prey', 'price', 'priceless', 'pride', 'priest', 'prime', 'primeminist', 'princ', 'princess', 'princip', 'prison', 'prisonguard', 'privat', 'prize', 'pro', 'problem', 'procedur', 'process', 'prodigi', 'produc', 'product', 'profess', 'profession', 'professor', 'profil', 'program', 'project', 'prom', 'promin', 'promis', 'propheci', 'proport', 'propos', 'prosecut', 'prospect', 'prostitut', 'protect', 'protest', 'prove', 'provid', 'psychiatr', 'psychiatrist', 'psychic', 'psycholog', 'psychologist', 'psychopath', 'psychotherapi', 'psychot', 'public', 'pull', 'punk', 'puppet', 'puppi', 'purchas', 'pure', 'purpos', 'pursu', 'pursuit', 'push', 'put', 'pyramid', 'quarantin', 'queen', 'queenlatifah', 'quentintarantino', 'quest', 'question', 'quick', 'quickli', 'quiet', 'quirki', 'quit', 'rabbit', 'race', 'raceagainsttim', 'racehors', 'racepolit', 'racer', 'rachel', 'rachelmcadam', 'rachelweisz', 'racial', 'racialsegreg', 'racism', 'racist', 'radhamitchel', 'radiat', 'radio', 'rage', 'rageandh', 'raid', 'rain', 'rais', 'ralli', 'ralph', 'ralphfienn', 'rampag', 'ranch', 'randi', 'ranger', 'rape', 'rapmus', 'rapper', 'rare', 'rat', 'raw', 'ray', 'rayliotta', 'rayromano', 'reach', 'reacher', 'read', 'readi', 'real', 'realest', 'realiti', 'realiz', 'realli', 'realm', 'reason', 'rebecca', 'rebeccahal', 'rebel', 'rebellion', 'rebelli', 'reboot', 'rebuild', 'receiv', 'recent', 'recip', 'reclaim', 'reclus', 'recogn', 'reconcil', 'reconnect', 'record', 'recordproduc', 'recov', 'recruit', 'red', 'redempt', 'reesewitherspoon', 'refug', 'refuge', 'refus', 'regain', 'reilli', 'relationship', 'rel', 'releas', 'relentless', 'religion', 'religionandsupernatur', 'religi', 'reloc', 'reluct', 'reluctantli', 'reli', 'remain', 'remak', 'remot', 'remi', 'rene', 'renegad', 'renown', 'rent', 'renéezellweg', 'repair', 'replac', 'report', 'reput', 'rescu', 'research', 'resid', 'resist', 'resort', 'resourc', 'respect', 'respons', 'rest', 'restaur', 'restor', 'result', 'resurfac', 'retel', 'retir', 'retreat', 'retribut', 'retriev', 'return', 'reuben', 'reunion', 'reunit', 'reveal', 'revel', 'reveng', 'reverend', 'revil', 'revolut', 'rhysifan', 'rich', 'richard', 'richardarmitag', 'richarddreyfuss', 'richardlinklat', 'richardson', 'rick', 'rickygervai', 'rid', 'riddick', 'riddl', 'ride', 'rider', 'ridleyscott', 'rifl', 'right', 'riley', 'ring', 'ringo', 'rio', 'riot', 'rise', 'risk', 'rival', 'rivalri', 'river', 'road', 'roadmovi', 'roadtrip', 'rob', 'robber', 'robberi', 'robcohen', 'robert', 'robertdeniro', 'robertdowneyjr', 'robertduval', 'robertluket', 'robertpattinson', 'robertrodriguez', 'robertschwentk', 'robertzemecki', 'robin', 'robinson', 'robinwilliam', 'robmarshal', 'robot', 'robrein', 'robzombi', 'rock', 'rockandrol', 'rockstar', 'rocki', 'rodent', 'rodrigosantoro', 'roger', 'rogermoor', 'rogu', 'rolandemmerich', 'role', 'roll', 'roman', 'romanc', 'romant', 'romanticcomedi', 'romanticdrama', 'rome', 'ronhoward', 'ronni', 'roof', 'rooftop', 'rooki', 'room', 'roommat', 'rooneymara', 'root', 'rosa', 'rosamundpik', 'rosariodawson', 'rose', 'rosebyrn', 'ross', 'round', 'rout', 'routin', 'royal', 'royalfamili', 'royalti', 'rubenfleisch', 'rugbi', 'ruin', 'rule', 'rumor', 'run', 'runaway', 'runner', 'rupertgrint', 'rural', 'ruralset', 'russel', 'russellbrand', 'russellcrow', 'russia', 'russian', 'ruthless', 'ryan', 'ryangosl', 'ryanphillipp', 'ryanreynold', 'saber', 'sabotag', 'sachabaroncohen', 'sacrific', 'sadism', 'sadist', 'sad', 'safe', 'safeguard', 'safeti', 'saga', 'said', 'sale', 'salesman', 'salt', 'sam', 'samfel', 'sammend', 'samneil', 'samraimi', 'samrockwel', 'samuel', 'samworthington', 'san', 'sandrabullock', 'sanfrancisco', 'santa', 'santaclau', 'saoirseronan', 'sara', 'sarah', 'sarahmichellegellar', 'sarapaxton', 'satan', 'satellit', 'satir', 'sausag', 'save', 'savingtheworld', 'savvi', 'say', 'sbook', 'scale', 'scam', 'scandal', 'scarecrow', 'scarlettjohansson', 'scari', 'scene', 'scheme', 'schmidt', 'scholarship', 'school', 'schoolbu', 'schoolofwitchcraft', 'schoolperform', 'sci', 'scienc', 'sciencefict', 'scientif', 'scientist', 'score', 'scorses', 'scott', 'scottglenn', 'scottish', 'scout', 'screen', 'screenwrit', 'script', 'scroog', 'scubadiv', 'sdailylif', 'sea', 'seal', 'seamonst', 'sean', 'seanand', 'seanbean', 'seanconneri', 'seannwilliamscott', 'seanpenn', 'search', 'season', 'seclud', 'second', 'secret', 'secretag', 'secretari', 'secretbas', 'secretident', 'secretintelligenceservic', 'secretlov', 'secretli', 'secretmiss', 'secretorgan', 'secretservic', 'secretsocieti', 'section', 'secur', 'securityguard', 'seduct', 'see', 'seek', 'seemingli', 'seen', 'selenagomez', 'selen', 'self', 'selfsacrific', 'sell', 'seller', 'senat', 'send', 'senior', 'sens', 'sent', 'sentenc', 'seo', 'separ', 'sequel', 'sergeant', 'serial', 'serialkil', 'seri', 'serum', 'serv', 'servic', 'set', 'seth', 'sethgordon', 'sethgreen', 'sethrogen', 'settl', 'seve', 'seven', 'sever', 'sewer', 'sex', 'sexcomedi', 'sexscen', 'sexual', 'sexualabus', 'sexualhumor', 'sexi', 'shadow', 'shailenewoodley', 'shaken', 'shakespear', 'shanghai', 'shannynsossamon', 'shape', 'share', 'shark', 'sharkattack', 'sharltocopley', 'sharp', 'shatter', 'shawnlevi', 'shed', 'sheep', 'shelbi', 'shelley', 'shelter', 'sheriff', 'sherimoonzombi', 'shialabeouf', 'shield', 'shift', 'ship', 'shipwreck', 'shock', 'shoe', 'shoot', 'shootout', 'shop', 'short', 'shot', 'shotgun', 'shotintheshould', 'showdown', 'show', 'shredder', 'shrek', 'shuttl', 'shi', 'shyness', 'sibl', 'sick', 'sid', 'sidekick', 'sidney', 'siennaguillori', 'sight', 'sign', 'signal', 'sigourneyweav', 'silenc', 'silent', 'silver', 'similar', 'simmon', 'simon', 'simonpegg', 'simonwest', 'simpl', 'simpli', 'simultan', 'sin', 'sing', 'singer', 'singl', 'singlemoth', 'singlepar', 'sinist', 'sir', 'sister', 'sistersisterrelationship', 'site', 'situat', 'sixth', 'size', 'skeleton', 'ski', 'skill', 'skinhead', 'skull', 'sky', 'skyscrap', 'skywalk', 'slacker', 'slasher', 'slaughter', 'slave', 'slaveri', 'sleep', 'sleepi', 'slife', 'sloth', 'slowli', 'slum', 'small', 'smalltown', 'smart', 'smaug', 'smiley', 'smith', 'smitten', 'smoke', 'smuggl', 'smurf', 'smurfett', 'snack', 'snake', 'snatch', 'sniper', 'snow', 'snowstorm', 'snowwhit', 'social', 'societi', 'sociopath', 'solar', 'sold', 'soldier', 'sole', 'solitari', 'solo', 'solv', 'son', 'song', 'songwrit', 'soon', 'sophi', 'sorcer', 'soror', 'sort', 'soul', 'soulmat', 'south', 'southafrica', 'southeast', 'southern', 'southernusa', 'soviet', 'space', 'spacebattl', 'spacecraft', 'spacemarin', 'spaceopera', 'spaceship', 'spacetravel', 'spain', 'span', 'spark', 'sparrow', 'special', 'specialcar', 'specialist', 'speci', 'spectacular', 'spectr', 'speech', 'speed', 'spell', 'spend', 'spent', 'spider', 'spikejonz', 'spinoff', 'spirit', 'spiritu', 'spoof', 'sport', 'sportscar', 'sportsteam', 'spread', 'spring', 'spi', 'squad', 'squar', 'st', 'stabl', 'stadium', 'staff', 'stage', 'stake', 'stalker', 'stalk', 'stan', 'stand', 'stanleytucci', 'star', 'starcrossedlov', 'stark', 'starr', 'start', 'startl', 'state', 'station', 'statu', 'stay', 'steal', 'steampunk', 'steed', 'step', 'stepfath', 'stephen', 'stephendorff', 'stephenrea', 'stepmoth', 'steve', 'stevebuscemi', 'stevecarel', 'stevemartin', 'stevensoderbergh', 'stevenspielberg', 'stewart', 'stick', 'stockbrok', 'stockmarket', 'stolen', 'stone', 'stoneag', 'stonebank', 'stop', 'stopmot', 'store', 'stori', 'storm', 'straight', 'strand', 'strang', 'stranger', 'strategi', 'street', 'streetgang', 'strength', 'strict', 'strike', 'stripclub', 'stripe', 'stripper', 'strive', 'strong', 'stronger', 'strongwoman', 'struggl', 'stuck', 'student', 'studio', 'studi', 'stumbl', 'stun', 'stunt', 'style', 'sub', 'subject', 'submarin', 'subsequ', 'suburban', 'suburbia', 'subway', 'succeed', 'success', 'successor', 'sudden', 'suddenli', 'suffer', 'suicid', 'suicideattempt', 'suit', 'sullivan', 'summer', 'sun', 'sunglass', 'sunris', 'super', 'superhero', 'superheroteam', 'superhuman', 'supermarket', 'supernatur', 'supernaturalpow', 'superpow', 'supervillain', 'suppli', 'support', 'suppos', 'supremaci', 'sure', 'surf', 'surfac', 'surfer', 'surgeon', 'surgeri', 'surli', 'surpris', 'surreal', 'surrog', 'surround', 'surviv', 'survivor', 'susan', 'susansarandon', 'suspect', 'suspens', 'suspicion', 'suspici', 'swan', 'swashbuckl', 'swastika', 'swat', 'sweet', 'swimmingpool', 'sword', 'swordandsorceri', 'swore', 'sylvesterstallon', 'symbol', 'taken', 'take', 'tale', 'talent', 'talk', 'talkinganim', 'tall', 'tank', 'target', 'task', 'tast', 'tate', 'tattoo', 'taxi', 'taylorkitsch', 'taylorlautn', 'teach', 'teacher', 'team', 'teamwork', 'tech', 'technolog', 'ted', 'teen', 'teenag', 'teenageboy', 'teenagecrush', 'teenagegirl', 'teenagehero', 'teenagerom', 'teenmovi', 'televis', 'tell', 'tension', 'terminalil', 'term', 'terribl', 'terrier', 'terrifi', 'territori', 'terror', 'terrorist', 'terri', 'tess', 'test', 'texa', 'thanksgiv', 'theater', 'theft', 'theodor', 'theojam', 'therapist', 'therapi', 'thief', 'thiev', 'thing', 'think', 'thoma', 'thomashadenchurch', 'thomasjan', 'thor', 'thought', 'thousand', 'threat', 'threaten', 'thrill', 'thriller', 'throatslit', 'throne', 'throw', 'thrown', 'thrust', 'thug', 'thunder', 'thwart', 'tide', 'tiger', 'tight', 'tim', 'timallen', 'timburton', 'time', 'timebomb', 'timemachin', 'timetravel', 'timothi', 'timothyolyph', 'timstori', 'tinafey', 'tintin', 'tini', 'tire', 'titan', 'tobeymaguir', 'tobinbel', 'tobykebbel', 'today', 'todd', 'toddphillip', 'toilet', 'tokyo', 'told', 'tolkien', 'tolstoy', 'tom', 'tomcruis', 'tomhank', 'tomhardi', 'tomhiddleston', 'tommi', 'tommyleejon', 'tomtykw', 'tomwilkinson', 'tonicollett', 'tonto', 'toni', 'tonygilroy', 'took', 'toretto', 'torn', 'tornado', 'tortur', 'tori', 'toshootdead', 'total', 'touch', 'tough', 'toughest', 'tour', 'tourist', 'tournament', 'tower', 'town', 'toy', 'toycomestolif', 'track', 'traci', 'trade', 'trader', 'traffick', 'tragedi', 'tragic', 'tragichero', 'trail', 'train', 'trainer', 'traitor', 'transform', 'transplant', 'transport', 'transportofprison', 'trap', 'trauma', 'travel', 'travi', 'treacher', 'treasur', 'treasurehunt', 'treat', 'treatment', 'tree', 'treypark', 'trial', 'triangl', 'tribe', 'trick', 'tri', 'trilog', 'trio', 'trip', 'troll', 'tropic', 'troubl', 'troup', 'truck', 'trucker', 'true', 'truli', 'trust', 'truth', 'tunnel', 'turmoil', 'turn', 'turner', 'turtl', 'tv', 'tvmovi', 'tvshow', 'tvstation', 'twice', 'twin', 'twinbroth', 'twist', 'tyler', 'tylerperri', 'type', 'typic', 'tyrann', 'tyrannosaurusrex', 'ugli', 'ultim', 'umbrella', 'unabl', 'unawar', 'unbeknownst', 'uncanni', 'uncl', 'unconvent', 'uncov', 'undead', 'undercov', 'undercoverag', 'undercovercop', 'underdog', 'underground', 'underwat', 'underwear', 'underworld', 'unemploy', 'unexpect', 'unexpectedli', 'unfold', 'unforeseen', 'unforgett', 'unfortun', 'union', 'uniqu', 'unit', 'unitedn', 'univers', 'unknown', 'unleash', 'unless', 'unlik', 'unlock', 'unorthodox', 'unpreced', 'unravel', 'unrequitedlov', 'unscrupul', 'unsimulatedsex', 'unsoci', 'unstabl', 'unstopp', 'unthink', 'unusu', 'unveil', 'unwil', 'unwittingli', 'upcom', 'upend', 'upper', 'upperclass', 'uprobberi', 'up', 'upset', 'upsid', 'urban', 'usa', 'usapresid', 'use', 'utopia', 'vacat', 'vader', 'valentin', 'valeri', 'valley', 'vampir', 'vampirehunt', 'van', 'vandal', 'vanessa', 'vanessahudgen', 'vanish', 'vaniti', 'variou', 'vast', 'vatican', 've', 'vega', 'vegetarian', 'vengeanc', 'veng', 'venic', 'venu', 'verafarmiga', 'verbal', 'verg', 'version', 'vesper', 'veteran', 'vetter', 'viagra', 'viciou', 'victim', 'victor', 'victoria', 'victori', 'video', 'videogam', 'vienna', 'vietnam', 'view', 'viggomortensen', 'vigilant', 'vike', 'villag', 'villain', 'vincentcassel', 'vincevaughn', 'vindiesel', 'vineyard', 'violenc', 'violent', 'violet', 'virgin', 'virginia', 'virtual', 'virtualr', 'viru', 'visa', 'vision', 'visit', 'voic', 'voiceov', 'volatil', 'volcano', 'voldemort', 'volunt', 'vomit', 'von', 'voodoo', 'vorort', 'vow', 'voyag', 'vs', 'wacki', 'wade', 'wai', 'wait', 'waitress', 'wake', 'walk', 'walker', 'wall', 'wallet', 'wallstreet', 'waltbeck', 'walter', 'want', 'war', 'waragainstterror', 'warcorrespond', 'warcrim', 'ward', 'warfar', 'warhead', 'warlord', 'warn', 'waronterror', 'warren', 'warrior', 'warship', 'washington', 'washingtond', 'wasteland', 'watch', 'water', 'wave', 'way', 'wealth', 'wealthi', 'weapon', 'weaponri', 'wear', 'weari', 'weather', 'web', 'websit', 'wed', 'weddingdress', 'week', 'weekend', 'weird', 'welcom', 'went', 'werewolf', 'wesley', 'wesleysnip', 'west', 'western', 'whale', 'wheelchair', 'whip', 'whisk', 'white', 'whitehous', 'who', 'whovil', 'wick', 'wide', 'widow', 'wife', 'wifehusbandrelationship', 'wild', 'wilder', 'willemdafo', 'willferrel', 'william', 'willpatton', 'willsmith', 'wilson', 'win', 'wine', 'wing', 'wink', 'winter', 'wipe', 'wire', 'wise', 'wish', 'witch', 'wit', 'witnesstomurd', 'wizard', 'wizardri', 'wolf', 'wolv', 'woman', 'womandirector', 'women', 'won', 'wonder', 'wood', 'woodi', 'woodyallen', 'woodyharrelson', 'word', 'work', 'worker', 'world', 'worldwarii', 'worldwid', 'wormhol', 'wors', 'worst', 'worth', 'wound', 'wrestl', 'wright', 'writer', 'written', 'wrong', 'wyom', 'xenophobia', 'yacht', 'yakuza', 'year', 'yoga', 'york', 'yorker', 'young', 'youngadult', 'youngboy', 'younger', 'youngest', 'youngster', 'youth', 'zacefron', 'zachgalifianaki', 'zacksnyd', 'zebra', 'zeu', 'zoe', 'zoesaldana', 'zombi', 'zone', 'zoo', 'zooey', 'zooeydeschanel']\n"
     ]
    }
   ],
   "source": [
    "print(unique_stemmed_feature_names)\n",
    "#5000 unique words according to frequency of their occurance in our dataset"
   ]
  },
  {
   "cell_type": "code",
   "execution_count": 209,
   "id": "0aa773c5-fbac-4150-96d2-8fab690477db",
   "metadata": {},
   "outputs": [
    {
     "data": {
      "text/plain": [
       "(1494, 5000)"
      ]
     },
     "execution_count": 209,
     "metadata": {},
     "output_type": "execute_result"
    }
   ],
   "source": [
    "vectors.shape\n"
   ]
  },
  {
   "cell_type": "code",
   "execution_count": 210,
   "id": "13cc9930-00ee-41ed-a3a9-a2e52ec39e45",
   "metadata": {},
   "outputs": [],
   "source": [
    "from sklearn.metrics.pairwise import cosine_similarity\n",
    "#cosine simimlarity for finding similarities between words. Lesser the angle better the similarity"
   ]
  },
  {
   "cell_type": "code",
   "execution_count": 211,
   "id": "3bb22a07-4170-4036-93ad-f32e3e5c712c",
   "metadata": {},
   "outputs": [
    {
     "data": {
      "text/plain": [
       "array([[1.        , 0.08134892, 0.05423261, ..., 0.        , 0.05504819,\n",
       "        0.02469324],\n",
       "       [0.08134892, 1.        , 0.05882353, ..., 0.04428074, 0.        ,\n",
       "        0.        ],\n",
       "       [0.05423261, 0.05882353, 1.        , ..., 0.        , 0.        ,\n",
       "        0.        ],\n",
       "       ...,\n",
       "       [0.        , 0.04428074, 0.        , ..., 1.        , 0.        ,\n",
       "        0.04032389],\n",
       "       [0.05504819, 0.        , 0.        , ..., 0.        , 1.        ,\n",
       "        0.        ],\n",
       "       [0.02469324, 0.        , 0.        , ..., 0.04032389, 0.        ,\n",
       "        1.        ]])"
      ]
     },
     "execution_count": 211,
     "metadata": {},
     "output_type": "execute_result"
    }
   ],
   "source": [
    "similarity = cosine_similarity(vectors)\n",
    "similarity"
   ]
  },
  {
   "cell_type": "code",
   "execution_count": 212,
   "id": "5a8c4927-9054-47a8-a6c6-3ff8d69dd903",
   "metadata": {},
   "outputs": [],
   "source": [
    "def recommend(movie): #function for recommendations based on similarity\n",
    "    \n",
    "    movie_lower = movie.lower()\n",
    "    df['title_lower'] = df['title'].str.lower()\n",
    "    movie_index1 = df[df['title_lower'] == movie_lower].index\n",
    "\n",
    "    if not movie_index1.empty:\n",
    "        movie_index1 = movie_index1[0]\n",
    "        distances = similarity[movie_index1]\n",
    "        movies_list = sorted(list(enumerate(distances)), reverse=True, key=lambda x: x[1])[1:7]\n",
    "    \n",
    "        for i in movies_list:\n",
    "            print(df.iloc[i[0]].title)\n",
    "        \n",
    "    df.drop('title_lower', axis=1, inplace=True)\n"
   ]
  },
  {
   "cell_type": "code",
   "execution_count": 213,
   "id": "c2c4bfe0-f012-4ce7-86a7-be58c9e33347",
   "metadata": {},
   "outputs": [
    {
     "name": "stdout",
     "output_type": "stream",
     "text": [
      "Captain America: Civil War\n",
      "Captain America: The First Avenger\n",
      "The Avengers\n",
      "Ant-Man\n",
      "Iron Man 3\n",
      "Avengers: Age of Ultron\n"
     ]
    }
   ],
   "source": [
    "recommend('Iron Man')#testing our model\n"
   ]
  },
  {
   "cell_type": "code",
   "execution_count": 215,
   "id": "718e77ba-521d-47bf-bba4-6c38c81fed7c",
   "metadata": {},
   "outputs": [],
   "source": [
    "import pickle #saving pickle file for easy loading and accessing\n"
   ]
  },
  {
   "cell_type": "code",
   "execution_count": 216,
   "id": "a38e8746-8f20-4f5b-8ed6-7f7204f1f8d6",
   "metadata": {},
   "outputs": [],
   "source": [
    "pickle.dump(df,open('movie_list.pkl','wb'))\n",
    "pickle.dump(similarity,open('similarity.pkl','wb'))\n"
   ]
  },
  {
   "cell_type": "code",
   "execution_count": null,
   "id": "cae8617d-4bfa-434d-bea3-0654a273f483",
   "metadata": {},
   "outputs": [],
   "source": []
  }
 ],
 "metadata": {
  "kernelspec": {
   "display_name": "Python 3 (ipykernel)",
   "language": "python",
   "name": "python3"
  },
  "language_info": {
   "codemirror_mode": {
    "name": "ipython",
    "version": 3
   },
   "file_extension": ".py",
   "mimetype": "text/x-python",
   "name": "python",
   "nbconvert_exporter": "python",
   "pygments_lexer": "ipython3",
   "version": "3.11.5"
  }
 },
 "nbformat": 4,
 "nbformat_minor": 5
}
